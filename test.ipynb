{
 "cells": [
  {
   "cell_type": "markdown",
   "metadata": {},
   "source": [
    "# Test Notebook"
   ]
  },
  {
   "cell_type": "code",
   "execution_count": null,
   "metadata": {},
   "outputs": [],
   "source": [
    "import numpy as np\n",
    "from geomechy.io import jsonReader\n",
    "from geomechy.core import NodeSet, ElementSet, ShapeFunctionsManager, ConstitutiveManager, GroupSet\n",
    "from geomechy.base import Properties\n",
    "from geomechy.materials import Soil\n",
    "from geomechy.core import MaterialSet"
   ]
  },
  {
   "cell_type": "markdown",
   "metadata": {},
   "source": [
    "## Load Json Data"
   ]
  },
  {
   "cell_type": "code",
   "execution_count": null,
   "metadata": {},
   "outputs": [
    {
     "data": {
      "text/plain": [
       "dict_keys(['Nodes', 'Elements', 'Groups', 'Materials', 'Physics', 'Constitutive', 'FEM', 'Solver', 'Modules', 'Writers'])"
      ]
     },
     "execution_count": null,
     "metadata": {},
     "output_type": "execute_result"
    }
   ],
   "source": [
    "jsonFile = \"./assets/json/template.json\"\n",
    "data = jsonReader(jsonFile)\n",
    "data.keys()"
   ]
  },
  {
   "cell_type": "code",
   "execution_count": null,
   "metadata": {},
   "outputs": [
    {
     "data": {
      "text/plain": [
       "{1: array([0.    , 3.6576]),\n",
       " 2: array([0., 0.]),\n",
       " 3: array([3.048 , 0.3048]),\n",
       " 4: array([3.048 , 3.6576]),\n",
       " 5: array([6.096 , 0.6096]),\n",
       " 6: array([6.096 , 3.6576])}"
      ]
     },
     "execution_count": null,
     "metadata": {},
     "output_type": "execute_result"
    }
   ],
   "source": [
    "nodes = NodeSet()\n",
    "nodes.readFromDict(data)\n",
    "nodes"
   ]
  },
  {
   "cell_type": "code",
   "execution_count": null,
   "metadata": {},
   "outputs": [
    {
     "data": {
      "text/plain": [
       "6"
      ]
     },
     "execution_count": null,
     "metadata": {},
     "output_type": "execute_result"
    }
   ],
   "source": [
    "nodes.numNodes"
   ]
  },
  {
   "cell_type": "code",
   "execution_count": null,
   "metadata": {},
   "outputs": [
    {
     "data": {
      "text/plain": [
       "{1: {'Nodes': [1, 2, 3, 4],\n",
       "  'Le': <6x4 sparse matrix of type '<class 'numpy.float64'>'\n",
       "  \twith 4 stored elements in Compressed Sparse Row format>},\n",
       " 2: {'Nodes': [3, 4, 5, 6],\n",
       "  'Le': <6x4 sparse matrix of type '<class 'numpy.float64'>'\n",
       "  \twith 4 stored elements in Compressed Sparse Row format>}}"
      ]
     },
     "execution_count": null,
     "metadata": {},
     "output_type": "execute_result"
    }
   ],
   "source": [
    "elems = ElementSet()\n",
    "elems.readFromDict(data)\n",
    "elems"
   ]
  },
  {
   "cell_type": "code",
   "execution_count": null,
   "metadata": {},
   "outputs": [
    {
     "data": {
      "text/plain": [
       "[{'ALL': {'name': 'All_Domain',\n",
       "   'elements': [1, 2],\n",
       "   'materials': ['Water', 'Clay']}}]"
      ]
     },
     "execution_count": null,
     "metadata": {},
     "output_type": "execute_result"
    }
   ],
   "source": [
    "groups = GroupSet(data[\"Groups\"])\n",
    "groups[\"ElementGroups\"]\n",
    "# for item in groups[\"ElementGroups\"]:\n",
    "#     if 1 in list(item.values())[0][\"elements\"]:\n",
    "#         print(\"si esta\")"
   ]
  },
  {
   "cell_type": "code",
   "execution_count": null,
   "metadata": {},
   "outputs": [
    {
     "data": {
      "text/plain": [
       "{'Water': <geomechy.materials.Water at 0x22685cdc5c0>,\n",
       " 'Clay': <geomechy.materials.Soil at 0x22685cdc588>}"
      ]
     },
     "execution_count": null,
     "metadata": {},
     "output_type": "execute_result"
    }
   ],
   "source": [
    "mat = data[\"Materials\"]\n",
    "props = MaterialSet(mat)\n",
    "props"
   ]
  },
  {
   "cell_type": "code",
   "execution_count": null,
   "metadata": {},
   "outputs": [
    {
     "data": {
      "text/plain": [
       "{1: {'gp': array([[-0.5774, -0.5774],\n",
       "         [ 0.5774, -0.5774],\n",
       "         [-0.5774,  0.5774],\n",
       "         [ 0.5774,  0.5774]]),\n",
       "  'we': array([[1.],\n",
       "         [1.],\n",
       "         [1.],\n",
       "         [1.]]),\n",
       "  'N': [array([0.622 , 0.1667, 0.0447, 0.1667]),\n",
       "   array([0.1667, 0.622 , 0.1667, 0.0447]),\n",
       "   array([0.1667, 0.0447, 0.1667, 0.622 ]),\n",
       "   array([0.0447, 0.1667, 0.622 , 0.1667])],\n",
       "  'dN': [array([[-0.3943,  0.3943,  0.1057, -0.1057],\n",
       "          [-0.3943, -0.1057,  0.1057,  0.3943]]),\n",
       "   array([[-0.3943,  0.3943,  0.1057, -0.1057],\n",
       "          [-0.1057, -0.3943,  0.3943,  0.1057]]),\n",
       "   array([[-0.1057,  0.1057,  0.3943, -0.3943],\n",
       "          [-0.3943, -0.1057,  0.1057,  0.3943]]),\n",
       "   array([[-0.1057,  0.1057,  0.3943, -0.3943],\n",
       "          [-0.1057, -0.3943,  0.3943,  0.1057]])]},\n",
       " 2: {'gp': array([[-0.5774, -0.5774],\n",
       "         [ 0.5774, -0.5774],\n",
       "         [-0.5774,  0.5774],\n",
       "         [ 0.5774,  0.5774]]),\n",
       "  'we': array([[1.],\n",
       "         [1.],\n",
       "         [1.],\n",
       "         [1.]]),\n",
       "  'N': [array([0.622 , 0.1667, 0.0447, 0.1667]),\n",
       "   array([0.1667, 0.622 , 0.1667, 0.0447]),\n",
       "   array([0.1667, 0.0447, 0.1667, 0.622 ]),\n",
       "   array([0.0447, 0.1667, 0.622 , 0.1667])],\n",
       "  'dN': [array([[-0.3943,  0.3943,  0.1057, -0.1057],\n",
       "          [-0.3943, -0.1057,  0.1057,  0.3943]]),\n",
       "   array([[-0.3943,  0.3943,  0.1057, -0.1057],\n",
       "          [-0.1057, -0.3943,  0.3943,  0.1057]]),\n",
       "   array([[-0.1057,  0.1057,  0.3943, -0.3943],\n",
       "          [-0.3943, -0.1057,  0.1057,  0.3943]]),\n",
       "   array([[-0.1057,  0.1057,  0.3943, -0.3943],\n",
       "          [-0.1057, -0.3943,  0.3943,  0.1057]])]}}"
      ]
     },
     "execution_count": null,
     "metadata": {},
     "output_type": "execute_result"
    }
   ],
   "source": [
    "shape = ShapeFunctionsManager(nodes, elems)\n",
    "shape.getShapeFunc()\n",
    "shape"
   ]
  },
  {
   "cell_type": "code",
   "execution_count": null,
   "metadata": {},
   "outputs": [
    {
     "data": {
      "text/plain": [
       "{'Clay': <geomechy.constitutive.PlaneStrain at 0x22685cdc518>}"
      ]
     },
     "execution_count": null,
     "metadata": {},
     "output_type": "execute_result"
    }
   ],
   "source": [
    "constitutive = ConstitutiveManager(data[\"Constitutive\"])\n",
    "constitutive"
   ]
  },
  {
   "cell_type": "code",
   "execution_count": null,
   "metadata": {},
   "outputs": [],
   "source": []
  }
 ],
 "metadata": {
  "kernelspec": {
   "display_name": "Python 3",
   "language": "python",
   "name": "python3"
  }
 },
 "nbformat": 4,
 "nbformat_minor": 4
}
