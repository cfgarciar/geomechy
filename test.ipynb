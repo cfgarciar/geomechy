{
 "cells": [
  {
   "cell_type": "markdown",
   "metadata": {},
   "source": [
    "# Test Notebook"
   ]
  },
  {
   "cell_type": "code",
   "execution_count": null,
   "metadata": {},
   "outputs": [],
   "source": [
    "import numpy as np\n",
    "from geomechy.io import jsonReader\n",
    "from geomechy.core import NodeSet, ElementSet, ShapeFunctionsManager, ConstitutiveManager, GroupSet\n",
    "from geomechy.base import Properties\n",
    "from geomechy.materials import Soil\n",
    "from geomechy.core import MaterialSet"
   ]
  },
  {
   "cell_type": "markdown",
   "metadata": {},
   "source": [
    "## Load Json Data"
   ]
  },
  {
   "cell_type": "code",
   "execution_count": null,
   "metadata": {},
   "outputs": [
    {
     "data": {
      "text/plain": [
       "dict_keys(['Nodes', 'Elements', 'Groups', 'Materials', 'Physics', 'Constitutive', 'FEM', 'Solver', 'Modules', 'Writers'])"
      ]
     },
     "execution_count": null,
     "metadata": {},
     "output_type": "execute_result"
    }
   ],
   "source": [
    "jsonFile = \"./assets/json/template.json\"\n",
    "data = jsonReader(jsonFile)\n",
    "data.keys()"
   ]
  },
  {
   "cell_type": "code",
   "execution_count": null,
   "metadata": {},
   "outputs": [
    {
     "data": {
      "text/plain": [
       "{1: array([0.    , 3.6576]),\n",
       " 2: array([0., 0.]),\n",
       " 3: array([3.048 , 0.3048]),\n",
       " 4: array([3.048 , 3.6576]),\n",
       " 5: array([6.096 , 0.6096]),\n",
       " 6: array([6.096 , 3.6576])}"
      ]
     },
     "execution_count": null,
     "metadata": {},
     "output_type": "execute_result"
    }
   ],
   "source": [
    "nodes = NodeSet()\n",
    "nodes.readFromDict(data)\n",
    "nodes"
   ]
  },
  {
   "cell_type": "code",
   "execution_count": null,
   "metadata": {},
   "outputs": [
    {
     "data": {
      "text/plain": [
       "array([0.    , 3.6576])"
      ]
     },
     "execution_count": null,
     "metadata": {},
     "output_type": "execute_result"
    }
   ],
   "source": [
    "nodes.getNodeCoords(1)"
   ]
  },
  {
   "cell_type": "code",
   "execution_count": null,
   "metadata": {},
   "outputs": [
    {
     "data": {
      "text/plain": [
       "{1: [[1, 2, 3, 4],\n",
       "  <6x4 sparse matrix of type '<class 'numpy.float64'>'\n",
       "  \twith 4 stored elements in COOrdinate format>],\n",
       " 2: [[3, 4, 5, 6],\n",
       "  <6x4 sparse matrix of type '<class 'numpy.float64'>'\n",
       "  \twith 4 stored elements in COOrdinate format>]}"
      ]
     },
     "execution_count": null,
     "metadata": {},
     "output_type": "execute_result"
    }
   ],
   "source": [
    "elems = ElementSet()\n",
    "elems.readFromDict(data)\n",
    "elems"
   ]
  },
  {
   "cell_type": "code",
   "execution_count": null,
   "metadata": {},
   "outputs": [
    {
     "data": {
      "text/plain": [
       "{'NodeGroups': [{'BC1': {'name': 'Boundary_14', 'nodes': [1, 4]},\n",
       "   'BC2': {'name': 'Boundary_65', 'nodes': [6, 5]}}],\n",
       " 'ElementGroups': [{'ALL': {'name': 'All_Domain', 'elements': [1, 2]}}]}"
      ]
     },
     "execution_count": null,
     "metadata": {},
     "output_type": "execute_result"
    }
   ],
   "source": [
    "groups = GroupSet(data[\"Groups\"])\n",
    "groups"
   ]
  },
  {
   "cell_type": "code",
   "execution_count": null,
   "metadata": {},
   "outputs": [
    {
     "data": {
      "text/plain": [
       "{'gp': array([[-0.5774, -0.5774],\n",
       "        [ 0.5774, -0.5774],\n",
       "        [-0.5774,  0.5774],\n",
       "        [ 0.5774,  0.5774]]),\n",
       " 'we': array([[1.],\n",
       "        [1.],\n",
       "        [1.],\n",
       "        [1.]]),\n",
       " 'N': [array([0.622 , 0.1667, 0.0447, 0.1667]),\n",
       "  array([0.1667, 0.622 , 0.1667, 0.0447]),\n",
       "  array([0.1667, 0.0447, 0.1667, 0.622 ]),\n",
       "  array([0.0447, 0.1667, 0.622 , 0.1667])],\n",
       " 'dN': [array([[-0.3943,  0.3943,  0.1057, -0.1057],\n",
       "         [-0.3943, -0.1057,  0.1057,  0.3943]]),\n",
       "  array([[-0.3943,  0.3943,  0.1057, -0.1057],\n",
       "         [-0.1057, -0.3943,  0.3943,  0.1057]]),\n",
       "  array([[-0.1057,  0.1057,  0.3943, -0.3943],\n",
       "         [-0.3943, -0.1057,  0.1057,  0.3943]]),\n",
       "  array([[-0.1057,  0.1057,  0.3943, -0.3943],\n",
       "         [-0.1057, -0.3943,  0.3943,  0.1057]])]}"
      ]
     },
     "execution_count": null,
     "metadata": {},
     "output_type": "execute_result"
    }
   ],
   "source": [
    "shape = ShapeFunctionsManager(nodes, elems)\n",
    "shape.getShapeFunc()\n",
    "shape.getShapeData(1)"
   ]
  },
  {
   "cell_type": "code",
   "execution_count": null,
   "metadata": {},
   "outputs": [
    {
     "data": {
      "text/plain": [
       "{'Water': <geomechy.materials.Water at 0x29f98c289b0>,\n",
       " 'Clay': <geomechy.materials.Soil at 0x29f98c28d30>}"
      ]
     },
     "execution_count": null,
     "metadata": {},
     "output_type": "execute_result"
    }
   ],
   "source": [
    "mat = data[\"Materials\"]\n",
    "props = MaterialSet(mat)\n",
    "props"
   ]
  },
  {
   "cell_type": "code",
   "execution_count": null,
   "metadata": {},
   "outputs": [
    {
     "data": {
      "text/plain": [
       "'Clay'"
      ]
     },
     "execution_count": null,
     "metadata": {},
     "output_type": "execute_result"
    }
   ],
   "source": [
    "props[\"Clay\"].name"
   ]
  },
  {
   "cell_type": "code",
   "execution_count": null,
   "metadata": {},
   "outputs": [
    {
     "ename": "KeyError",
     "evalue": "0",
     "output_type": "error",
     "traceback": [
      "\u001b[1;31m---------------------------------------------------------------------------\u001b[0m",
      "\u001b[1;31mKeyError\u001b[0m                                  Traceback (most recent call last)",
      "\u001b[1;32m<ipython-input-10-8a9a504761ce>\u001b[0m in \u001b[0;36m<module>\u001b[1;34m\u001b[0m\n\u001b[0;32m      1\u001b[0m \u001b[0mconstitutive\u001b[0m \u001b[1;33m=\u001b[0m \u001b[0mConstitutiveManager\u001b[0m\u001b[1;33m(\u001b[0m\u001b[0mdata\u001b[0m\u001b[1;33m[\u001b[0m\u001b[1;34m\"Constitutive\"\u001b[0m\u001b[1;33m]\u001b[0m\u001b[1;33m)\u001b[0m\u001b[1;33m\u001b[0m\u001b[1;33m\u001b[0m\u001b[0m\n\u001b[1;32m----> 2\u001b[1;33m \u001b[0mconstitutive\u001b[0m\u001b[1;33m[\u001b[0m\u001b[1;36m0\u001b[0m\u001b[1;33m]\u001b[0m\u001b[1;33m.\u001b[0m\u001b[0mgetElasticMatrix\u001b[0m\u001b[1;33m(\u001b[0m\u001b[1;33m)\u001b[0m\u001b[1;33m\u001b[0m\u001b[1;33m\u001b[0m\u001b[0m\n\u001b[0m",
      "\u001b[1;31mKeyError\u001b[0m: 0"
     ]
    }
   ],
   "source": [
    "constitutive = ConstitutiveManager(data[\"Constitutive\"])\n",
    "constitutive[0].getElasticMatrix()"
   ]
  },
  {
   "cell_type": "code",
   "execution_count": null,
   "metadata": {},
   "outputs": [],
   "source": []
  }
 ],
 "metadata": {
  "kernelspec": {
   "display_name": "Python 3",
   "language": "python",
   "name": "python3"
  }
 },
 "nbformat": 4,
 "nbformat_minor": 4
}
