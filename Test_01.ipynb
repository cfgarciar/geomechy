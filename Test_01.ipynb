{
 "cells": [
  {
   "cell_type": "code",
   "execution_count": null,
   "metadata": {},
   "outputs": [],
   "source": [
    "%load_ext autoreload\n",
    "%autoreload 2"
   ]
  },
  {
   "cell_type": "code",
   "execution_count": null,
   "metadata": {},
   "outputs": [],
   "source": [
    "import pandas as pd\n",
    "import numpy as np\n",
    "from scipy.sparse import csr_matrix\n",
    "from scipy.io import loadmat\n",
    "import torch"
   ]
  },
  {
   "cell_type": "code",
   "execution_count": null,
   "metadata": {},
   "outputs": [],
   "source": [
    "from geomechy.base import ItemDict, Properties \n",
    "from geomechy.base import BaseConstitutive, BaseElement, BaseLinearSolver\n",
    "from geomechy.utils import lanczos, arnoldi"
   ]
  },
  {
   "cell_type": "markdown",
   "metadata": {},
   "source": [
    "# Test Base Rotines"
   ]
  },
  {
   "cell_type": "markdown",
   "metadata": {},
   "source": [
    "## 1. ItemDict"
   ]
  },
  {
   "cell_type": "code",
   "execution_count": null,
   "metadata": {},
   "outputs": [
    {
     "name": "stdout",
     "output_type": "stream",
     "text": [
      "{1: [1, 2, 3], 2: [3, 4, 5], 3: [6, 7, 8]}\n"
     ]
    }
   ],
   "source": [
    "item = ItemDict()\n",
    "item.add(1,[1,2,3])\n",
    "item.add(2,[3,4,5])\n",
    "item.add(3,[6,7,8])\n",
    "assert isinstance(item,dict)\n",
    "assert item.get(1) == [1,2,3]\n",
    "assert item.getData([1,2]) == {1: [1, 2, 3], 2: [3, 4, 5]}\n",
    "print(item)"
   ]
  },
  {
   "cell_type": "markdown",
   "metadata": {},
   "source": [
    "## 2. Properties"
   ]
  },
  {
   "cell_type": "code",
   "execution_count": null,
   "metadata": {},
   "outputs": [
    {
     "name": "stdout",
     "output_type": "stream",
     "text": [
      "Attribute: E\n",
      "500\n",
      "Attribute: G\n",
      "200\n",
      "Attribute: nu\n",
      "0.3\n",
      "\n"
     ]
    }
   ],
   "source": [
    "props = Properties({\"E\":500, \"nu\":0.3})\n",
    "\n",
    "assert props.E == 500\n",
    "assert props.nu == 0.3\n",
    "props.store(\"G\",200)\n",
    "assert props.G == 200\n",
    "assert next(props.__iter__()) == ('E', 500)\n",
    "print(props)"
   ]
  },
  {
   "cell_type": "markdown",
   "metadata": {},
   "source": [
    "## 3. Base Constitutive"
   ]
  },
  {
   "cell_type": "code",
   "execution_count": null,
   "metadata": {},
   "outputs": [
    {
     "name": "stdout",
     "output_type": "stream",
     "text": [
      "current iter: 0\n"
     ]
    }
   ],
   "source": [
    "params = {\"E\": {\"dim\": \"Pascal\",\"value\": 500},\"nu\":{\"dim\":\"dimless\",\"value\": 0.3}}\n",
    "\n",
    "consti = BaseConstitutive(params)\n",
    "assert consti.E == 500\n",
    "assert consti.nu == 0.3\n",
    "assert consti.current == {'i': 0}\n",
    "assert consti.iIter == -1\n",
    "consti.setCurrentParameter(\"G\", 200)\n",
    "assert consti.getCurrentParameter(\"G\")  == 200\n",
    "consti.setCurrentParameter(\"K\", 300)\n",
    "assert consti.getCurrentParameter(\"K\")  == 300\n",
    "consti.commitHistory()\n",
    "assert consti.iIter == 0\n",
    "assert consti.current == {'i': 0.0, 'G': 0.0, 'K': 0.0}\n",
    "assert isinstance(consti.history,pd.DataFrame)\n",
    "assert consti.getHistoryParameter(\"K\",0) == 300\n",
    "print(consti)"
   ]
  },
  {
   "cell_type": "markdown",
   "metadata": {},
   "source": [
    "## 4. BaseElement"
   ]
  },
  {
   "cell_type": "code",
   "execution_count": null,
   "metadata": {},
   "outputs": [],
   "source": []
  },
  {
   "cell_type": "markdown",
   "metadata": {},
   "source": [
    "## 5. Base Linear System Solver"
   ]
  },
  {
   "cell_type": "code",
   "execution_count": null,
   "metadata": {},
   "outputs": [
    {
     "name": "stdout",
     "output_type": "stream",
     "text": [
      "Solver device: cuda\n"
     ]
    }
   ],
   "source": [
    "A  = csr_matrix([[5,0,0],[0,4,0],[0,0,7]])\n",
    "b  = np.random.randn(3,1)\n",
    "xo = np.random.randn(3,1)\n",
    "tol = 1e-10\n",
    "maxIter = 100\n",
    "\n",
    "solver = BaseLinearSolver(A, b, xo, tol, maxIter)\n",
    "assert solver.device == torch.device(type='cuda')\n",
    "assert np.allclose(np.linalg.norm(solver.A.cpu().numpy()),np.linalg.norm(A.todense()))\n",
    "assert np.allclose(np.linalg.norm(solver.b.cpu()),np.linalg.norm(b))\n",
    "assert np.allclose(np.linalg.norm(solver.xo.cpu()),np.linalg.norm(xo))\n",
    "assert np.allclose(solver.tol,tol)\n",
    "assert np.allclose(solver.maxIter,maxIter)\n",
    "assert hasattr(solver, 'A_sparsity')\n",
    "assert hasattr(solver, 'b_sparsity')\n",
    "assert np.allclose(solver.A_sparsity,6./9)\n",
    "assert solver.b_sparsity == 0\n",
    "print(solver)"
   ]
  },
  {
   "cell_type": "markdown",
   "metadata": {},
   "source": [
    "# Test Utils Routines"
   ]
  },
  {
   "cell_type": "markdown",
   "metadata": {},
   "source": [
    "## 1. Lanczos Factorization"
   ]
  },
  {
   "cell_type": "code",
   "execution_count": null,
   "metadata": {},
   "outputs": [],
   "source": [
    "device  = torch.device('cuda' if torch.cuda.is_available() else 'cpu')\n",
    "A  = torch.from_numpy(loadmat('./assets/matlab/ACG.mat')[\"ACG\"].toarray()).type(torch.float64).to(device)\n",
    "b  = torch.from_numpy(loadmat('./assets/matlab/b.mat')[\"b\"]).type(torch.float64).to(device)\n",
    "xo = torch.from_numpy(loadmat('./assets/matlab/xo.mat')[\"xo\"]).type(torch.float64).to(device)\n",
    "r  = b - torch.matmul(A,xo)\n",
    "\n",
    "Q_gpu, T_gpu = lanczos(A,r,m=100,reorthog=0)\n",
    "A, Q, T = A.cpu().numpy(), Q_gpu.cpu().numpy(), T_gpu.cpu().numpy()\n",
    "assert np.allclose(np.linalg.norm(np.matmul(A,Q[:,:-1])),np.linalg.norm(np.matmul(Q,T)))"
   ]
  },
  {
   "cell_type": "markdown",
   "metadata": {},
   "source": [
    "## 2. Arnoldi Factorization"
   ]
  },
  {
   "cell_type": "code",
   "execution_count": null,
   "metadata": {},
   "outputs": [],
   "source": [
    "device  = torch.device('cuda' if torch.cuda.is_available() else 'cpu')\n",
    "A  = torch.from_numpy(loadmat('./assets/matlab/ACG.mat')[\"ACG\"].toarray()).type(torch.float64).to(device)\n",
    "b  = torch.from_numpy(loadmat('./assets/matlab/b.mat')[\"b\"]).type(torch.float64).to(device)\n",
    "xo = torch.from_numpy(loadmat('./assets/matlab/xo.mat')[\"xo\"]).type(torch.float64).to(device)\n",
    "r  = b - torch.matmul(A,xo)\n",
    "\n",
    "Q_gpu, H_gpu, m = arnoldi(A,r,m=100)\n",
    "A, Q, H = A.cpu().numpy(), Q_gpu.cpu().numpy(), H_gpu.cpu().numpy()\n",
    "assert np.allclose(np.linalg.norm(np.matmul(A,Q[:,:-1])),np.linalg.norm(np.matmul(Q,H)))"
   ]
  },
  {
   "cell_type": "code",
   "execution_count": null,
   "metadata": {},
   "outputs": [],
   "source": []
  }
 ],
 "metadata": {
  "kernelspec": {
   "display_name": "Python 3",
   "language": "python",
   "name": "python3"
  }
 },
 "nbformat": 4,
 "nbformat_minor": 4
}
