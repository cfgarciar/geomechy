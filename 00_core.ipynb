{
 "cells": [
  {
   "cell_type": "code",
   "execution_count": null,
   "metadata": {},
   "outputs": [],
   "source": [
    "%load_ext autoreload\n",
    "%autoreload 2"
   ]
  },
  {
   "cell_type": "code",
   "execution_count": null,
   "metadata": {},
   "outputs": [
    {
     "name": "stdout",
     "output_type": "stream",
     "text": [
      "Cells will be exported to geomechy.core,\n",
      "unless a different module is specified after an export flag: `%nbdev_export special.module`\n"
     ]
    }
   ],
   "source": [
    "from nbdev import *\n",
    "%nbdev_default_export core\n",
    "%nbdev_default_class_level 3"
   ]
  },
  {
   "cell_type": "code",
   "execution_count": null,
   "metadata": {},
   "outputs": [],
   "source": [
    "%nbdev_export\n",
    "import numpy as np\n",
    "from scipy.sparse import coo_matrix\n",
    "from geomechy.base import ItemDict, BaseElement\n",
    "from geomechy.utils import *\n",
    "from geomechy.io import jsonReader\n",
    "from geomechy.materials import *\n",
    "from geomechy.shape import *\n",
    "from geomechy.constitutive import *"
   ]
  },
  {
   "cell_type": "markdown",
   "metadata": {},
   "source": [
    "# Core\n",
    "> Main program"
   ]
  },
  {
   "cell_type": "markdown",
   "metadata": {},
   "source": [
    "## Node Set Object"
   ]
  },
  {
   "cell_type": "code",
   "execution_count": null,
   "metadata": {},
   "outputs": [],
   "source": [
    "%nbdev_export\n",
    "class NodeSet(ItemDict):\n",
    "        \n",
    "    def readFromDict(self, data):\n",
    "        nodes_dict = data[\"Nodes\"]\n",
    "        self.node_dim = eval(nodes_dict[\"dim\"])\n",
    "        \n",
    "        for node in nodes_dict[\"coords\"]:\n",
    "            self.add(node[0], np.array(node[1:])*self.node_dim)\n",
    "    \n",
    "    def getNodeCoords(self, nodeId):\n",
    "        return self.get(nodeId)"
   ]
  },
  {
   "cell_type": "markdown",
   "metadata": {},
   "source": [
    "## Element Set Object"
   ]
  },
  {
   "cell_type": "code",
   "execution_count": null,
   "metadata": {},
   "outputs": [],
   "source": [
    "%nbdev_export\n",
    "class ElementSet(ItemDict):\n",
    "        \n",
    "    def readFromDict(self, data):\n",
    "        elems_dict = data[\"Elements\"]\n",
    "        self.elementType = elems_dict[\"elementType\"]\n",
    "        \n",
    "        max_node = np.max([np.max(elem[1:]) for elem in elems_dict[\"elems\"]])\n",
    "        num_node = len(elems_dict[\"elems\"][0][1:])\n",
    "        \n",
    "        sparse_col  = np.array(range(num_node))\n",
    "        sparse_data = np.ones(num_node)\n",
    "        \n",
    "        for elem in elems_dict[\"elems\"]:\n",
    "            sparse_row = np.sort(np.array(elem[1:])-1, axis=None)\n",
    "            sparse_le  = coo_matrix((sparse_data, (sparse_row, sparse_col)), shape=(max_node, num_node))\n",
    "            \n",
    "            self.add(elem[0], [elem[1:], sparse_le])\n",
    "    \n",
    "    def getElementNodes(self, elemId):\n",
    "        return self.get(elemId)"
   ]
  },
  {
   "cell_type": "markdown",
   "metadata": {},
   "source": [
    "## Group Set Object"
   ]
  },
  {
   "cell_type": "code",
   "execution_count": null,
   "metadata": {},
   "outputs": [],
   "source": [
    "%nbdev_export\n",
    "class GroupSet(ItemDict):\n",
    "    def readFromDict(self, data):\n",
    "        nodeGroups    = data[\"NodeGroups\"]\n",
    "        elementGroups = data[\"ElementGroups\"]\n",
    "        \n",
    "        for group in nodeGroups:\n",
    "            self.add(group[\"name\"],group[\"nodes\"])\n",
    "            \n",
    "        for group in elementGroups:\n",
    "            self.add(group[\"name\"],group[\"elements\"])"
   ]
  },
  {
   "cell_type": "code",
   "execution_count": null,
   "metadata": {},
   "outputs": [
    {
     "data": {
      "text/plain": [
       "{'NodeGroups': [{'BC1': {'name': 'Boundary_14', 'nodes': [1, 4]},\n",
       "   'BC2': {'name': 'Boundary_65', 'nodes': [6, 5]}}],\n",
       " 'ElementGroups': [{'ALL': {'name': 'All_Domain',\n",
       "    'elements': [1, 2],\n",
       "    'materials': ['Water', 'Clay']}}]}"
      ]
     },
     "execution_count": null,
     "metadata": {},
     "output_type": "execute_result"
    }
   ],
   "source": [
    "jsonFile = \"./assets/json/template.json\"\n",
    "data = jsonReader(jsonFile)\n",
    "mat = data[\"Groups\"]\n",
    "group = GroupSet(mat)\n",
    "group"
   ]
  },
  {
   "cell_type": "markdown",
   "metadata": {},
   "source": [
    "## Material Set Object"
   ]
  },
  {
   "cell_type": "code",
   "execution_count": null,
   "metadata": {},
   "outputs": [],
   "source": [
    "%nbdev_export\n",
    "class MaterialSet(dict):\n",
    "    \n",
    "    def __init__(self, material):\n",
    "        \n",
    "        fluids = material[\"Fluids\"]\n",
    "        media  = material[\"PorousMedia\"]\n",
    "        temp   = material[\"Temp\"]\n",
    "        \n",
    "        for idx, f in enumerate(fluids):\n",
    "            name = f[\"name\"]\n",
    "            if f[\"Type\"] == \"Water\":\n",
    "                w = Water(f)\n",
    "                self[name] = w\n",
    "            elif f[\"Type\"] == \"Oil\":\n",
    "                o = Oil(f)\n",
    "                self[name] = o\n",
    "            elif f[\"Type\"] == \"Gas\":\n",
    "                g = Gas(f)\n",
    "                self[name] = g\n",
    "            elif f[\"Type\"] == \"Air\":\n",
    "                a = Air(f)\n",
    "                self[name] = a\n",
    "            else:\n",
    "                pass\n",
    "\n",
    "        for idx, m in enumerate(media):\n",
    "            name = m[\"name\"]\n",
    "            if m[\"Type\"] == \"Soil\":\n",
    "                s = Soil(m)\n",
    "                self[name] = s\n",
    "            elif m[\"Type\"] == \"Rock\":\n",
    "                r = Rock(m)\n",
    "                self[name] = r\n",
    "            else:\n",
    "                pass\n",
    "            \n",
    "    def getMaterial(self, materialId):\n",
    "        return self.get(materialId)\n",
    "    \n",
    "    def getData(self, Ids):\n",
    "        return {Id:self[Id] for Id in Ids}"
   ]
  },
  {
   "cell_type": "markdown",
   "metadata": {},
   "source": [
    "## Shape Functions Manager Object"
   ]
  },
  {
   "cell_type": "code",
   "execution_count": null,
   "metadata": {},
   "outputs": [],
   "source": [
    "%nbdev_export\n",
    "class ShapeFunctionsManager(ItemDict):\n",
    "    \n",
    "    def __init__(self, nodeSet, elemSet, reduced=False):\n",
    "        self.nodeSet = nodeSet\n",
    "        self.elemSet = elemSet\n",
    "        self.reduced = reduced\n",
    "        \n",
    "        if not self.elemSet.elementType:\n",
    "            e1_nodes  = self.elemSet.getElementNodes(1)\n",
    "            e1_coords = np.array([self.nodeSet.getNodeCoords(c) for c in e1_nodes])\n",
    "            self.elementType = getElemetType(e1_coords)\n",
    "        else:\n",
    "            self.elementType = self.elemSet.elementType\n",
    "            \n",
    "        self.gp, self.we = getGaussPoints(elemType=self.elementType, reduced=self.reduced)          \n",
    "    \n",
    "    def getShapeFunc(self):\n",
    "        all_N = []\n",
    "        all_dN = []\n",
    "        for gp in self.gp:\n",
    "            N, dN = getAllShapeFunctions(self.elementType, gp)\n",
    "            all_N.append(N)\n",
    "            all_dN.append(dN)\n",
    "        self.N, self.dN = all_N, all_dN\n",
    "        \n",
    "        for key, value in self.elemSet.items():\n",
    "            self[key] = {\"gp\": self.gp, \"we\": self.we,\"N\":self.N, \"dN\":self.dN}\n",
    "    \n",
    "    def getShapeData(self, elementId):\n",
    "        return self.get(elementId)"
   ]
  },
  {
   "cell_type": "markdown",
   "metadata": {},
   "source": [
    "## Constitutive Manager Object"
   ]
  },
  {
   "cell_type": "code",
   "execution_count": null,
   "metadata": {},
   "outputs": [],
   "source": [
    "%nbdev_export\n",
    "class ConstitutiveManager(ItemDict):\n",
    "    \n",
    "    def __init__(self, constitutive):\n",
    "    \n",
    "        for idx, c in enumerate(constitutive):\n",
    "            \n",
    "            if c[\"Model\"] == \"Elastic\":\n",
    "                elastic = Elastic(c[\"params\"])\n",
    "                self.add(c[\"name\"],elastic)\n",
    "                \n",
    "            elif c[\"Model\"] == \"PlaneStrain\":\n",
    "                planeStrain = PlaneStrain(c[\"params\"])\n",
    "                self.add(c[\"name\"],planeStrain)\n",
    "                \n",
    "            elif c[\"Model\"] == \"PlaneStress\":\n",
    "                planeStess = PlaneStess(c[\"params\"])\n",
    "                self.add(c[\"name\"],planeStress)\n",
    "            \n",
    "            elif c[\"Model\"] == \"TransverseIsotropic\":\n",
    "                transverseIsotropic= TransverseIsotropic(c[\"params\"])\n",
    "                self.add(c[\"name\"],transverseIsotropic)\n",
    "        \n",
    "            elif c[\"Model\"] == \"MCC\":\n",
    "                mcc= MCC(c[\"params\"])\n",
    "                self.add(c[\"name\"],mcc)\n",
    "    \n",
    "    def getConstitutive(self, constitutiveId):\n",
    "        return self.get(constitutiveId)"
   ]
  },
  {
   "cell_type": "markdown",
   "metadata": {},
   "source": [
    "## Element Maneger Object"
   ]
  },
  {
   "cell_type": "code",
   "execution_count": null,
   "metadata": {},
   "outputs": [],
   "source": [
    "%nbdev_export\n",
    "class ElementManager(ItemDict):\n",
    "    \n",
    "    def __init__(self, nodes, elems, groups, shapes, mats, constis):\n",
    "        ItemDict.__init__(self)\n",
    "        self.nodes   = nodes\n",
    "        self.elems   = elems\n",
    "        self.groups  = groups\n",
    "        self.shapes  = shapes\n",
    "        self.mats    = mats\n",
    "        self.constis = constis\n",
    "\n",
    "        for numElem, dataElem in elems.items():\n",
    "            el = self.elems.getData([numElem])         \n",
    "            no = self.nodes.getData(el[numElem][0])\n",
    "            gr = self.groups[\"ElementGroups\"][0][\"ALL\"]\n",
    "            sh = self.shapes.getShapeData(numElem)\n",
    "            ma = self.mats.getData(gr[\"materials\"])\n",
    "            co = self.constis\n",
    "                             \n",
    "            element = BaseElement(numElem, no, el, gr, sh, ma, co)\n",
    "            self.add(numElem, element)\n",
    "\n",
    "    \n",
    "    def add(self, Id, item):\n",
    "        self[Id] = item "
   ]
  },
  {
   "cell_type": "code",
   "execution_count": null,
   "metadata": {},
   "outputs": [
    {
     "data": {
      "text/plain": [
       "{'name': 'All_Domain', 'elements': [1, 2], 'materials': ['Water', 'Clay']}"
      ]
     },
     "execution_count": null,
     "metadata": {},
     "output_type": "execute_result"
    }
   ],
   "source": [
    "jsonFile = \"./assets/json/template.json\"\n",
    "data = jsonReader(jsonFile)\n",
    "\n",
    "nodes = NodeSet()\n",
    "nodes.readFromDict(data)\n",
    "\n",
    "elems = ElementSet()\n",
    "elems.readFromDict(data)\n",
    "\n",
    "groups = GroupSet(data[\"Groups\"])\n",
    "\n",
    "shapes = ShapeFunctionsManager(nodes, elems)\n",
    "shapes.getShapeFunc()\n",
    "\n",
    "mats = MaterialSet(data[\"Materials\"])\n",
    "\n",
    "constis = ConstitutiveManager(data[\"Constitutive\"])\n",
    "\n",
    "elements = ElementManager(nodes, elems, groups, shapes, mats, constis)\n",
    "elements[2].setHistoryNodesParameter(\"p\",540)\n",
    "elements[2].group\n"
   ]
  },
  {
   "cell_type": "code",
   "execution_count": null,
   "metadata": {},
   "outputs": [],
   "source": []
  },
  {
   "cell_type": "code",
   "execution_count": null,
   "metadata": {},
   "outputs": [
    {
     "name": "stdout",
     "output_type": "stream",
     "text": [
      "Converted 00_core.ipynb.\n",
      "Converted 01_physics.ipynb.\n",
      "Converted 02_constitutive.ipynb.\n",
      "Converted 03_shape.ipynb.\n",
      "Converted 04_io.ipynb.\n",
      "Converted 06_materials.ipynb.\n",
      "Converted 08_Modules.ipynb.\n",
      "Converted 09_base.ipynb.\n",
      "Converted 10_utils.ipynb.\n",
      "Converted index.ipynb.\n",
      "Converted test.ipynb.\n"
     ]
    }
   ],
   "source": [
    "%nbdev_hide\n",
    "notebook2script()"
   ]
  },
  {
   "cell_type": "code",
   "execution_count": null,
   "metadata": {},
   "outputs": [],
   "source": []
  }
 ],
 "metadata": {
  "kernelspec": {
   "display_name": "Python 3",
   "language": "python",
   "name": "python3"
  }
 },
 "nbformat": 4,
 "nbformat_minor": 2
}
