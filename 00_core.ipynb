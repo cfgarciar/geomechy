{
 "cells": [
  {
   "cell_type": "code",
   "execution_count": null,
   "metadata": {},
   "outputs": [],
   "source": [
    "%load_ext autoreload\n",
    "%autoreload 2"
   ]
  },
  {
   "cell_type": "code",
   "execution_count": null,
   "metadata": {},
   "outputs": [
    {
     "name": "stdout",
     "output_type": "stream",
     "text": [
      "Cells will be exported to geomechy.core,\n",
      "unless a different module is specified after an export flag: `%nbdev_export special.module`\n"
     ]
    }
   ],
   "source": [
    "from nbdev import *\n",
    "%nbdev_default_export core\n",
    "%nbdev_default_class_level 3"
   ]
  },
  {
   "cell_type": "code",
   "execution_count": null,
   "metadata": {},
   "outputs": [],
   "source": [
    "%nbdev_export\n",
    "import numpy as np\n",
    "from geomechy.base import ItemDict\n",
    "from geomechy.utils import *\n",
    "from geomechy.io import jsonReader\n",
    "from geomechy.materials import *"
   ]
  },
  {
   "cell_type": "markdown",
   "metadata": {},
   "source": [
    "# Core\n",
    "> Main program"
   ]
  },
  {
   "cell_type": "markdown",
   "metadata": {},
   "source": [
    "## Material Object"
   ]
  },
  {
   "cell_type": "code",
   "execution_count": null,
   "metadata": {},
   "outputs": [],
   "source": [
    "%nbdev_export\n",
    "class MaterialSet(dict):\n",
    "    \n",
    "    def __init__(self, material):\n",
    "        \n",
    "        fluids = material[\"Fluids\"]\n",
    "        media  = material[\"PorousMedia\"]\n",
    "        temp   = material[\"Temp\"]\n",
    "        \n",
    "        for idx, f in enumerate(fluids):\n",
    "            if f[\"Type\"] == \"Water\":\n",
    "                w = Water(f)\n",
    "                self[f\"water_{idx+1}\"] = w\n",
    "            elif f[\"Type\"] == \"Oil\":\n",
    "                o = Oil(f)\n",
    "                self[f\"oil_{idx+1}\"] = o\n",
    "            elif f[\"Type\"] == \"Gas\":\n",
    "                g = Gas(f)\n",
    "                self[f\"gas_{idx+1}\"] = g\n",
    "            elif f[\"Type\"] == \"Air\":\n",
    "                a = Air(f)\n",
    "                self[f\"air_{idx+1}\"] = a\n",
    "            else:\n",
    "                pass\n",
    "                \n",
    "        for idx, m in enumerate(media):\n",
    "            if m[\"Type\"] == \"Soil\":\n",
    "                s = Soil(m)\n",
    "                self[f\"soil_{idx+1}\"] = s\n",
    "            elif m[\"Type\"] == \"Rock\":\n",
    "                r = Rock(m)\n",
    "                self[f\"rock_{idx+1}\"] = r\n",
    "            else:\n",
    "                pass  "
   ]
  },
  {
   "cell_type": "code",
   "execution_count": null,
   "metadata": {},
   "outputs": [
    {
     "name": "stdout",
     "output_type": "stream",
     "text": [
      "{'water_1': <geomechy.materials.Water object at 0x000001545DC19C50>, 'soil_1': <geomechy.materials.Soil object at 0x000001545DC19B00>}\n"
     ]
    }
   ],
   "source": [
    "jsonFile = \"./assets/json/template.json\"\n",
    "data = jsonReader(jsonFile)\n",
    "props = data[\"Materials\"]\n",
    "#props\n",
    "mat = MaterialSet(props)\n",
    "print(mat)"
   ]
  },
  {
   "cell_type": "markdown",
   "metadata": {},
   "source": [
    "## Node Set Object"
   ]
  },
  {
   "cell_type": "code",
   "execution_count": null,
   "metadata": {},
   "outputs": [],
   "source": [
    "%nbdev_export\n",
    "class NodeSet(ItemDict):\n",
    "    \n",
    "    def getNodeCoords(self, nodeIds):\n",
    "        return np.array(self.get(nodeIds))\n",
    "        \n",
    "    def readFromDict(self, data):\n",
    "        nodes_dict = data[\"Nodes\"]\n",
    "        node_dim = nodes_dict[\"dim\"]\n",
    "        \n",
    "        for node in nodes_dict[\"coords\"]:\n",
    "            self.add(node[0], node[1:])\n",
    "        "
   ]
  },
  {
   "cell_type": "markdown",
   "metadata": {},
   "source": [
    "## Element Set Object"
   ]
  },
  {
   "cell_type": "code",
   "execution_count": null,
   "metadata": {},
   "outputs": [],
   "source": [
    "%nbdev_export\n",
    "class ElementSet(ItemDict):\n",
    "    \n",
    "    def __init__(self, nodes, props):\n",
    "        ItemDict.__init__(self)\n",
    "        self.nodes  = nodes\n",
    "        self.props  = props\n",
    "        self.groups = {}\n",
    "    \n",
    "    def __iter__(self):\n",
    "        elements = []\n",
    "\n",
    "        for groupName in self.iterGroupNames():\n",
    "            for element in self.iterElementGroup(groupName):\n",
    "                elements.append(element)\n",
    "\n",
    "        return iter(elements)\n",
    "    \n",
    "    \n",
    "    def getDofTypes(self):\n",
    "        dofTypes = []\n",
    "        \n",
    "        for element in self:\n",
    "            for dofType in element.dofTypes:\n",
    "                if dofType not in dofTypes:\n",
    "                    dofTypes.append(dofType)\n",
    "        return dofTypes\n",
    "    \n",
    "    \n",
    "    def readFromFile(self, fileName):\n",
    "        fin = open(filename)\n",
    "        \n",
    "    \n",
    "    def add(self, ID, modelName, elementNodes):  \n",
    "\n",
    "        #Check if the model exists\n",
    "        if not hasattr(self.props, modelName):\n",
    "            RuntimeError('Missing properties for model ' + modelName)\n",
    "\n",
    "        modelProps = getattr(self.props, modelName)\n",
    "\n",
    "        \n",
    "        #Check if the model has a type\n",
    "        if not hasattr( modelProps, 'type' ):\n",
    "            RuntimeError('Missing type for model ' + modelName)\n",
    "\n",
    "        modelType = getattr(modelProps, 'type')\n",
    "\n",
    "        \n",
    "        #Load the element\n",
    "        exec(f'from geomechy.elements import {modelType} as element',globals())\n",
    "\n",
    "        \n",
    "        #Create the element\n",
    "        elem = element(elementNodes, modelProps)\n",
    "\n",
    "        #Check if the node IDs are valid\n",
    "        for nodeID in elem.getNodes():\n",
    "            if not nodeID in self.nodes:\n",
    "                raise RuntimeError('Node ID ' + str(nodeID) + ' does not exist')\n",
    "\n",
    "        \n",
    "        #Add the element to the element set\n",
    "        ItemDict.add(self, ID, elem)\n",
    "\n",
    "        #Add the element to the correct group\n",
    "        self.addToGroup(modelName, ID)\n",
    "    \n",
    "    \n",
    "    def addToGroup(self, modelType, ID):\n",
    "\n",
    "        if not modelType in self.groups:\n",
    "            self.groups[modelType] = [ID]\n",
    "        else:\n",
    "            self.groups[modelType].append( ID )\n",
    "\n",
    "    def iterGroupNames(self):\n",
    "        return self.groups\n",
    "        \n",
    "    def iterElementGroup (self, groupName):\n",
    "        if groupName == \"All\":\n",
    "            return iter(self)\n",
    "        else:\n",
    "            return iter(self.get(self.groups[groupName]))"
   ]
  },
  {
   "cell_type": "markdown",
   "metadata": {},
   "source": [
    "## Constitutive Manager"
   ]
  },
  {
   "cell_type": "code",
   "execution_count": null,
   "metadata": {},
   "outputs": [],
   "source": [
    "%nbdev_export\n",
    "class ConstitutiveManager(list):\n",
    "    \n",
    "    def __init__(self, matProps):\n",
    "        matType = matProps.type\n",
    "        exec(f'from geomechy.materials import {matType} as material', globals())\n",
    "        self.mat = material(matProps)\n",
    "        self.iIter = -1\n",
    "\n",
    "    def reset(self):\n",
    "        self.iIter = -1\n",
    "\n",
    "    def getStress(self, kinematic, iSam=-1):\n",
    "\n",
    "        if iSam == -1:\n",
    "            self.iIter += 1\n",
    "            iSam = self.iIter\n",
    "\n",
    "        self.mat.setIter(iSam)\n",
    "        return self.mat.getStress(kinematic)\n",
    "\n",
    "    def commitHistory(self):\n",
    "        self.mat.commitHistory()"
   ]
  },
  {
   "cell_type": "code",
   "execution_count": null,
   "metadata": {},
   "outputs": [
    {
     "ename": "NameError",
     "evalue": "name 'notebook2script' is not defined",
     "output_type": "error",
     "traceback": [
      "\u001b[1;31m---------------------------------------------------------------------------\u001b[0m",
      "\u001b[1;31mNameError\u001b[0m                                 Traceback (most recent call last)",
      "\u001b[1;32m<ipython-input-9-0779206bda35>\u001b[0m in \u001b[0;36m<module>\u001b[1;34m\u001b[0m\n\u001b[0;32m      1\u001b[0m \u001b[0mget_ipython\u001b[0m\u001b[1;33m(\u001b[0m\u001b[1;33m)\u001b[0m\u001b[1;33m.\u001b[0m\u001b[0mrun_line_magic\u001b[0m\u001b[1;33m(\u001b[0m\u001b[1;34m'nbdev_hide'\u001b[0m\u001b[1;33m,\u001b[0m \u001b[1;34m''\u001b[0m\u001b[1;33m)\u001b[0m\u001b[1;33m\u001b[0m\u001b[1;33m\u001b[0m\u001b[0m\n\u001b[1;32m----> 2\u001b[1;33m \u001b[0mnotebook2script\u001b[0m\u001b[1;33m(\u001b[0m\u001b[1;33m)\u001b[0m\u001b[1;33m\u001b[0m\u001b[1;33m\u001b[0m\u001b[0m\n\u001b[0m",
      "\u001b[1;31mNameError\u001b[0m: name 'notebook2script' is not defined"
     ]
    }
   ],
   "source": [
    "%nbdev_hide\n",
    "notebook2script()"
   ]
  },
  {
   "cell_type": "code",
   "execution_count": null,
   "metadata": {},
   "outputs": [],
   "source": []
  }
 ],
 "metadata": {
  "kernelspec": {
   "display_name": "Python 3",
   "language": "python",
   "name": "python3"
  }
 },
 "nbformat": 4,
 "nbformat_minor": 2
}
