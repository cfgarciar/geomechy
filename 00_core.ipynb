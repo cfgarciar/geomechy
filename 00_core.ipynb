{
 "cells": [
  {
   "cell_type": "code",
   "execution_count": null,
   "metadata": {},
   "outputs": [
    {
     "name": "stdout",
     "output_type": "stream",
     "text": [
      "The autoreload extension is already loaded. To reload it, use:\n",
      "  %reload_ext autoreload\n"
     ]
    }
   ],
   "source": [
    "%load_ext autoreload\n",
    "%autoreload 2"
   ]
  },
  {
   "cell_type": "code",
   "execution_count": null,
   "metadata": {},
   "outputs": [
    {
     "name": "stdout",
     "output_type": "stream",
     "text": [
      "Cells will be exported to geomechy.core,\n",
      "unless a different module is specified after an export flag: `%nbdev_export special.module`\n"
     ]
    }
   ],
   "source": [
    "from nbdev import *\n",
    "%nbdev_default_export core\n",
    "%nbdev_default_class_level 3"
   ]
  },
  {
   "cell_type": "code",
   "execution_count": null,
   "metadata": {},
   "outputs": [],
   "source": [
    "%nbdev_export\n",
    "import numpy as np\n",
    "from geomechy.base import ItemDict\n",
    "from geomechy.utils import *\n",
    "from geomechy.io import jsonReader\n",
    "from geomechy.materials import *\n",
    "from geomechy.shape import *"
   ]
  },
  {
   "cell_type": "markdown",
   "metadata": {},
   "source": [
    "# Core\n",
    "> Main program"
   ]
  },
  {
   "cell_type": "markdown",
   "metadata": {},
   "source": [
    "## Node Set Object"
   ]
  },
  {
   "cell_type": "code",
   "execution_count": null,
   "metadata": {},
   "outputs": [],
   "source": [
    "%nbdev_export\n",
    "class NodeSet(ItemDict):\n",
    "        \n",
    "    def readFromDict(self, data):\n",
    "        nodes_dict = data[\"Nodes\"]\n",
    "        self.node_dim = eval(nodes_dict[\"dim\"])\n",
    "        \n",
    "        for node in nodes_dict[\"coords\"]:\n",
    "            self.add(node[0], np.array(node[1:])*self.node_dim)\n",
    "    \n",
    "    def getNodeCoords(self, nodeId):\n",
    "        return self.get(nodeId)"
   ]
  },
  {
   "cell_type": "markdown",
   "metadata": {},
   "source": [
    "## Element Set Object"
   ]
  },
  {
   "cell_type": "code",
   "execution_count": null,
   "metadata": {},
   "outputs": [],
   "source": [
    "%nbdev_export\n",
    "class ElementSet(ItemDict):\n",
    "        \n",
    "    def readFromDict(self, data):\n",
    "        elems_dict = data[\"Elements\"]\n",
    "        self.elementType = elems_dict[\"elementType\"]\n",
    "        \n",
    "        for elem in elems_dict[\"elems\"]:\n",
    "            self.add(elem[0], elem[1:])\n",
    "    \n",
    "    def getElementNodes(self, elemId):\n",
    "        return self.get(elemId)"
   ]
  },
  {
   "cell_type": "markdown",
   "metadata": {},
   "source": [
    "## Material Set Object"
   ]
  },
  {
   "cell_type": "code",
   "execution_count": null,
   "metadata": {},
   "outputs": [],
   "source": [
    "%nbdev_export\n",
    "class MaterialSet(dict):\n",
    "    \n",
    "    def __init__(self, material):\n",
    "        \n",
    "        fluids = material[\"Fluids\"]\n",
    "        media  = material[\"PorousMedia\"]\n",
    "        temp   = material[\"Temp\"]\n",
    "        \n",
    "        for idx, f in enumerate(fluids):\n",
    "            if f[\"Type\"] == \"Water\":\n",
    "                w = Water(f)\n",
    "                self[f\"water_{idx+1}\"] = w\n",
    "            elif f[\"Type\"] == \"Oil\":\n",
    "                o = Oil(f)\n",
    "                self[f\"oil_{idx+1}\"] = o\n",
    "            elif f[\"Type\"] == \"Gas\":\n",
    "                g = Gas(f)\n",
    "                self[f\"gas_{idx+1}\"] = g\n",
    "            elif f[\"Type\"] == \"Air\":\n",
    "                a = Air(f)\n",
    "                self[f\"air_{idx+1}\"] = a\n",
    "            else:\n",
    "                pass\n",
    "                \n",
    "        for idx, m in enumerate(media):\n",
    "            if m[\"Type\"] == \"Soil\":\n",
    "                s = Soil(m)\n",
    "                self[f\"soil_{idx+1}\"] = s\n",
    "            elif m[\"Type\"] == \"Rock\":\n",
    "                r = Rock(m)\n",
    "                self[f\"rock_{idx+1}\"] = r\n",
    "            else:\n",
    "                pass  "
   ]
  },
  {
   "cell_type": "markdown",
   "metadata": {},
   "source": [
    "## Shape Functions Manager Object"
   ]
  },
  {
   "cell_type": "code",
   "execution_count": null,
   "metadata": {},
   "outputs": [],
   "source": [
    "%nbdev_export\n",
    "class ShapeFunctionsManager(ItemDict):\n",
    "    \n",
    "    def __init__(self, nodeSet, elemSet, reduced=False):\n",
    "        self.nodeSet = nodeSet\n",
    "        self.elemSet = elemSet\n",
    "        self.reduced = reduced\n",
    "        \n",
    "        if not self.elemSet.elementType:\n",
    "            e1_nodes  = self.elemSet.getElementNodes(1)\n",
    "            e1_coords = np.array([self.nodeSet.getNodeCoords(c) for c in e1_nodes])\n",
    "            self.elementType = getElemetType(e1_coords)\n",
    "        else:\n",
    "            self.elementType = self.elemSet.elementType\n",
    "            \n",
    "        self.gp, self.we = getGaussPoints(elemType=self.elementType, reduced=self.reduced)          \n",
    "    \n",
    "    def getShapeFunc(self):\n",
    "        all_N = []\n",
    "        all_dN = []\n",
    "        for gp in self.gp:\n",
    "            N, dN = getAllShapeFunctions(self.elementType, gp)\n",
    "            all_N.append(N)\n",
    "            all_dN.append(dN)\n",
    "        self.N, self.dN = all_N, all_dN\n",
    "        \n",
    "        for key, value in self.elemSet.items():\n",
    "            self[key] = {\"gp\": self.gp, \"we\": self.we,\"N\":self.N, \"dN\":self.dN}\n",
    "            "
   ]
  },
  {
   "cell_type": "markdown",
   "metadata": {},
   "source": [
    "## Constitutive Manager"
   ]
  },
  {
   "cell_type": "code",
   "execution_count": null,
   "metadata": {},
   "outputs": [],
   "source": [
    "%nbdev_export\n",
    "class ConstitutiveManager(list):\n",
    "    \n",
    "    def __init__(self, matProps):\n",
    "        matType = matProps.type\n",
    "        exec(f'from geomechy.materials import {matType} as material', globals())\n",
    "        self.mat = material(matProps)\n",
    "        self.iIter = -1\n",
    "\n",
    "    def reset(self):\n",
    "        self.iIter = -1\n",
    "\n",
    "    def getStress(self, kinematic, iSam=-1):\n",
    "\n",
    "        if iSam == -1:\n",
    "            self.iIter += 1\n",
    "            iSam = self.iIter\n",
    "\n",
    "        self.mat.setIter(iSam)\n",
    "        return self.mat.getStress(kinematic)\n",
    "\n",
    "    def commitHistory(self):\n",
    "        self.mat.commitHistory()"
   ]
  },
  {
   "cell_type": "markdown",
   "metadata": {},
   "source": [
    "## Element Maneger Object"
   ]
  },
  {
   "cell_type": "code",
   "execution_count": null,
   "metadata": {},
   "outputs": [],
   "source": [
    "%nbdev_export\n",
    "class ElementManager(ItemDict):\n",
    "    \n",
    "    def __init__(self, nodes, props):\n",
    "        ItemDict.__init__(self)\n",
    "        self.nodes  = nodes\n",
    "        self.props  = props\n",
    "        self.groups = {}\n",
    "    \n",
    "    def __iter__(self):\n",
    "        elements = []\n",
    "\n",
    "        for groupName in self.iterGroupNames():\n",
    "            for element in self.iterElementGroup(groupName):\n",
    "                elements.append(element)\n",
    "\n",
    "        return iter(elements)\n",
    "    \n",
    "    \n",
    "    def getDofTypes(self):\n",
    "        dofTypes = []\n",
    "        \n",
    "        for element in self:\n",
    "            for dofType in element.dofTypes:\n",
    "                if dofType not in dofTypes:\n",
    "                    dofTypes.append(dofType)\n",
    "        return dofTypes\n",
    "    \n",
    "    \n",
    "    def readFromFile(self, fileName):\n",
    "        fin = open(filename)\n",
    "        \n",
    "    \n",
    "    def add(self, ID, modelName, elementNodes):  \n",
    "\n",
    "        #Check if the model exists\n",
    "        if not hasattr(self.props, modelName):\n",
    "            RuntimeError('Missing properties for model ' + modelName)\n",
    "\n",
    "        modelProps = getattr(self.props, modelName)\n",
    "\n",
    "        \n",
    "        #Check if the model has a type\n",
    "        if not hasattr( modelProps, 'type' ):\n",
    "            RuntimeError('Missing type for model ' + modelName)\n",
    "\n",
    "        modelType = getattr(modelProps, 'type')\n",
    "\n",
    "        \n",
    "        #Load the element\n",
    "        exec(f'from geomechy.elements import {modelType} as element',globals())\n",
    "\n",
    "        \n",
    "        #Create the element\n",
    "        elem = element(elementNodes, modelProps)\n",
    "\n",
    "        #Check if the node IDs are valid\n",
    "        for nodeID in elem.getNodes():\n",
    "            if not nodeID in self.nodes:\n",
    "                raise RuntimeError('Node ID ' + str(nodeID) + ' does not exist')\n",
    "\n",
    "        \n",
    "        #Add the element to the element set\n",
    "        ItemDict.add(self, ID, elem)\n",
    "\n",
    "        #Add the element to the correct group\n",
    "        self.addToGroup(modelName, ID)\n",
    "    \n",
    "    \n",
    "    def addToGroup(self, modelType, ID):\n",
    "\n",
    "        if not modelType in self.groups:\n",
    "            self.groups[modelType] = [ID]\n",
    "        else:\n",
    "            self.groups[modelType].append( ID )\n",
    "\n",
    "    def iterGroupNames(self):\n",
    "        return self.groups\n",
    "        \n",
    "    def iterElementGroup (self, groupName):\n",
    "        if groupName == \"All\":\n",
    "            return iter(self)\n",
    "        else:\n",
    "            return iter(self.get(self.groups[groupName]))"
   ]
  },
  {
   "cell_type": "code",
   "execution_count": null,
   "metadata": {},
   "outputs": [
    {
     "name": "stdout",
     "output_type": "stream",
     "text": [
      "Converted 00_core.ipynb.\n",
      "Converted 01_physics.ipynb.\n",
      "Converted 02_constitutive.ipynb.\n",
      "Converted 03_shape.ipynb.\n",
      "Converted 04_io.ipynb.\n",
      "Converted 06_materials.ipynb.\n",
      "Converted 08_Modules.ipynb.\n",
      "Converted 09_base.ipynb.\n",
      "Converted 10_utils.ipynb.\n",
      "Converted index.ipynb.\n",
      "Converted test.ipynb.\n"
     ]
    }
   ],
   "source": [
    "%nbdev_hide\n",
    "notebook2script()"
   ]
  },
  {
   "cell_type": "code",
   "execution_count": null,
   "metadata": {},
   "outputs": [],
   "source": []
  },
  {
   "cell_type": "code",
   "execution_count": null,
   "metadata": {},
   "outputs": [],
   "source": []
  }
 ],
 "metadata": {
  "kernelspec": {
   "display_name": "Python 3",
   "language": "python",
   "name": "python3"
  }
 },
 "nbformat": 4,
 "nbformat_minor": 2
}
