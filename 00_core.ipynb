{
 "cells": [
  {
   "cell_type": "code",
   "execution_count": null,
   "metadata": {},
   "outputs": [],
   "source": [
    "%load_ext autoreload\n",
    "%autoreload 2"
   ]
  },
  {
   "cell_type": "code",
   "execution_count": null,
   "metadata": {},
   "outputs": [
    {
     "name": "stdout",
     "output_type": "stream",
     "text": [
      "Cells will be exported to geomechy.core,\n",
      "unless a different module is specified after an export flag: `%nbdev_export special.module`\n"
     ]
    }
   ],
   "source": [
    "from nbdev import *\n",
    "%nbdev_default_export core\n",
    "%nbdev_default_class_level 3"
   ]
  },
  {
   "cell_type": "code",
   "execution_count": null,
   "metadata": {},
   "outputs": [],
   "source": [
    "%nbdev_export\n",
    "import numpy as np\n",
    "from geomechy.base import ItemDict"
   ]
  },
  {
   "cell_type": "markdown",
   "metadata": {},
   "source": [
    "# Core\n",
    "> Main program"
   ]
  },
  {
   "cell_type": "markdown",
   "metadata": {},
   "source": [
    "## Material Manager"
   ]
  },
  {
   "cell_type": "code",
   "execution_count": null,
   "metadata": {},
   "outputs": [],
   "source": [
    "%nbdev_export\n",
    "class MaterialManager(list):\n",
    "    \n",
    "    def __init__(self, matProps):\n",
    "        matType = matProps.type\n",
    "        exec(f'from geomechy.materials import {matType} as material', globals())\n",
    "        self.mat = material(matProps)\n",
    "        self.iIter = -1\n",
    "\n",
    "    def reset(self):\n",
    "        self.iIter = -1\n",
    "\n",
    "    def getStress(self, kinematic, iSam=-1):\n",
    "\n",
    "        if iSam == -1:\n",
    "            self.iIter += 1\n",
    "            iSam = self.iIter\n",
    "\n",
    "        self.mat.setIter(iSam)\n",
    "        return self.mat.getStress(kinematic)\n",
    "\n",
    "    def commitHistory(self):\n",
    "        self.mat.commitHistory()"
   ]
  },
  {
   "cell_type": "markdown",
   "metadata": {},
   "source": [
    "## Node Set Object"
   ]
  },
  {
   "cell_type": "code",
   "execution_count": null,
   "metadata": {},
   "outputs": [],
   "source": [
    "%nbdev_export\n",
    "class NodeSet(ItemDict):\n",
    "    \n",
    "    def getNodeCoords(self, nodeIds):\n",
    "        return np.array(self.get(nodeIds))\n",
    "    \n",
    "    def readFromAbaqus(self, fileName):\n",
    "        fin = open( fileName )\n",
    "        \n",
    "    def readFromJson(self, fileName):\n",
    "        fin = open( fileName )"
   ]
  },
  {
   "cell_type": "code",
   "execution_count": null,
   "metadata": {},
   "outputs": [
    {
     "data": {
      "text/plain": [
       "[[0.0, 0.0], [-10.0, 0.0]]"
      ]
     },
     "execution_count": null,
     "metadata": {},
     "output_type": "execute_result"
    }
   ],
   "source": [
    "nodes = NodeSet()\n",
    "nodes.add( 1, [  0.,0.  ] ) #Attachement point of spring (can be positioned anywhere along the y-axis)\n",
    "nodes.add( 2, [-10.,0.  ] ) #Left support\n",
    "nodes.add( 3, [ 10.,0.  ] ) #Right support\n",
    "nodes.add( 4, [ 0. ,0.5 ] ) #Loading point\n",
    "nodes.get([1,2])"
   ]
  },
  {
   "cell_type": "markdown",
   "metadata": {},
   "source": [
    "## Element Set Object"
   ]
  },
  {
   "cell_type": "code",
   "execution_count": null,
   "metadata": {},
   "outputs": [],
   "source": [
    "class ElementSet(ItemDict):\n",
    "    \n",
    "    def __init__(self, nodes, props):\n",
    "        ItemDict.__init__(self)\n",
    "        self.nodes  = nodes\n",
    "        self.props  = props\n",
    "        self.groups = {}\n",
    "    \n",
    "    def __iter__(self):\n",
    "        elements = []\n",
    "\n",
    "        for groupName in self.iterGroupNames():\n",
    "            for element in self.iterElementGroup(groupName):\n",
    "                elements.append(element)\n",
    "\n",
    "        return iter(elements)\n",
    "    \n",
    "    \n",
    "    def getDofTypes(self):\n",
    "        dofTypes = []\n",
    "        \n",
    "        for element in self:\n",
    "            for dofType in element.dofTypes:\n",
    "                if dofType not in dofTypes:\n",
    "                    dofTypes.append(dofType)\n",
    "        return dofTypes\n",
    "    \n",
    "    \n",
    "    def readFromFile(self, fileName):\n",
    "        fin = open(filename)\n",
    "        \n",
    "    \n",
    "    def add(self, ID, modelName, elementNodes):  \n",
    "\n",
    "        #Check if the model exists\n",
    "        if not hasattr(self.props, modelName):\n",
    "            RuntimeError('Missing properties for model ' + modelName)\n",
    "\n",
    "        modelProps = getattr(self.props, modelName)\n",
    "\n",
    "        \n",
    "        #Check if the model has a type\n",
    "        if not hasattr( modelProps, 'type' ):\n",
    "            RuntimeError('Missing type for model ' + modelName)\n",
    "\n",
    "        modelType = getattr(modelProps, 'type')\n",
    "\n",
    "        \n",
    "        #Load the element\n",
    "        exec(f'from geomechy.elements import {modelType} as element',globals())\n",
    "\n",
    "        \n",
    "        #Create the element\n",
    "        elem = element(elementNodes, modelProps)\n",
    "\n",
    "        #Check if the node IDs are valid\n",
    "        for nodeID in elem.getNodes():\n",
    "            if not nodeID in self.nodes:\n",
    "                raise RuntimeError('Node ID ' + str(nodeID) + ' does not exist')\n",
    "\n",
    "        \n",
    "        #Add the element to the element set\n",
    "        ItemDict.add(self, ID, elem)\n",
    "\n",
    "        #Add the element to the correct group\n",
    "        self.addToGroup(modelName, ID)\n",
    "    \n",
    "    \n",
    "    def addToGroup(self, modelType, ID):\n",
    "\n",
    "        if not modelType in self.groups:\n",
    "            self.groups[modelType] = [ID]\n",
    "        else:\n",
    "            self.groups[modelType].append( ID )\n",
    "\n",
    "    def iterGroupNames(self):\n",
    "        return self.groups\n",
    "        \n",
    "    def iterElementGroup (self, groupName):\n",
    "        if groupName == \"All\":\n",
    "            return iter(self)\n",
    "        else:\n",
    "            return iter(self.get(self.groups[groupName]))"
   ]
  },
  {
   "cell_type": "code",
   "execution_count": null,
   "metadata": {},
   "outputs": [
    {
     "name": "stdout",
     "output_type": "stream",
     "text": [
      "Converted 00_core.ipynb.\n",
      "Converted 01_physics.ipynb.\n",
      "Converted 02_materials.ipynb.\n",
      "Converted 09_base.ipynb.\n",
      "Converted 10_utils.ipynb.\n",
      "Converted index.ipynb.\n"
     ]
    }
   ],
   "source": [
    "%nbdev_hide\n",
    "notebook2script()"
   ]
  },
  {
   "cell_type": "code",
   "execution_count": null,
   "metadata": {},
   "outputs": [],
   "source": []
  }
 ],
 "metadata": {
  "kernelspec": {
   "display_name": "Python 3",
   "language": "python",
   "name": "python3"
  }
 },
 "nbformat": 4,
 "nbformat_minor": 2
}
