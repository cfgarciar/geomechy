{
 "cells": [
  {
   "cell_type": "code",
   "execution_count": null,
   "metadata": {},
   "outputs": [
    {
     "name": "stdout",
     "output_type": "stream",
     "text": [
      "The autoreload extension is already loaded. To reload it, use:\n",
      "  %reload_ext autoreload\n"
     ]
    }
   ],
   "source": [
    "%load_ext autoreload\n",
    "%autoreload 2"
   ]
  },
  {
   "cell_type": "code",
   "execution_count": null,
   "metadata": {},
   "outputs": [
    {
     "name": "stdout",
     "output_type": "stream",
     "text": [
      "Cells will be exported to geomechy.materials,\n",
      "unless a different module is specified after an export flag: `%nbdev_export special.module`\n"
     ]
    }
   ],
   "source": [
    "from nbdev import *\n",
    "%nbdev_default_export materials\n",
    "%nbdev_default_class_level 3"
   ]
  },
  {
   "cell_type": "code",
   "execution_count": null,
   "metadata": {},
   "outputs": [],
   "source": [
    "%nbdev_export\n",
    "from geomechy.base import Properties\n",
    "from geomechy.utils import *"
   ]
  },
  {
   "cell_type": "markdown",
   "metadata": {},
   "source": [
    "# Materials\n",
    "> props routines"
   ]
  },
  {
   "cell_type": "markdown",
   "metadata": {},
   "source": [
    "## Porous Media"
   ]
  },
  {
   "cell_type": "markdown",
   "metadata": {},
   "source": [
    "### Soil"
   ]
  },
  {
   "cell_type": "code",
   "execution_count": null,
   "metadata": {},
   "outputs": [],
   "source": [
    "%nbdev_export\n",
    "class Soil(Properties):\n",
    "    def __init__ (self, props={}):\n",
    "        \n",
    "        for key in props.keys():\n",
    "            setattr(self, key, props[key])\n",
    "        \n",
    "        for att in dir(self):\n",
    "            if att.startswith('__') or att.startswith('store') or att.startswith('Type'):\n",
    "                continue\n",
    "            \n",
    "            dim = eval(getattr(self,att)[\"dim\"])\n",
    "            value = getattr(self,att)[\"value\"]\n",
    "            setattr(self, att, value*dim)\n",
    "        "
   ]
  },
  {
   "cell_type": "markdown",
   "metadata": {},
   "source": [
    "## Rock"
   ]
  },
  {
   "cell_type": "code",
   "execution_count": null,
   "metadata": {},
   "outputs": [],
   "source": [
    "%nbdev_export\n",
    "class Rock(Properties):\n",
    "    def __init__ (self, props={}):\n",
    "        \n",
    "        for key in props.keys():\n",
    "            setattr(self, key, props[key])\n",
    "        \n",
    "        for att in dir(self):\n",
    "            if att.startswith('__') or att.startswith('store') or att.startswith('Type'):\n",
    "                continue\n",
    "            \n",
    "            dim = eval(getattr(self,att)[\"dim\"])\n",
    "            value = getattr(self,att)[\"value\"]\n",
    "            setattr(self, att, value*dim)"
   ]
  },
  {
   "cell_type": "markdown",
   "metadata": {},
   "source": [
    "## Water"
   ]
  },
  {
   "cell_type": "code",
   "execution_count": null,
   "metadata": {},
   "outputs": [],
   "source": [
    "%nbdev_export\n",
    "class Water(Properties):\n",
    "    def __init__ (self, props={}):\n",
    "        \n",
    "        for key in props.keys():\n",
    "            setattr(self, key, props[key])\n",
    "        \n",
    "        for att in dir(self):\n",
    "            if att.startswith('__') or att.startswith('store') or att.startswith('Type'):\n",
    "                continue\n",
    "            \n",
    "            dim = eval(getattr(self,att)[\"dim\"])\n",
    "            value = getattr(self,att)[\"value\"]\n",
    "            setattr(self, att, value*dim)"
   ]
  },
  {
   "cell_type": "markdown",
   "metadata": {},
   "source": [
    "## Oil"
   ]
  },
  {
   "cell_type": "code",
   "execution_count": null,
   "metadata": {},
   "outputs": [],
   "source": [
    "%nbdev_export\n",
    "class Oil(Properties):\n",
    "    def __init__ (self, props={}):\n",
    "        \n",
    "        for key in props.keys():\n",
    "            setattr(self, key, props[key])\n",
    "        \n",
    "        for att in dir(self):\n",
    "            if att.startswith('__') or att.startswith('store') or att.startswith('Type'):\n",
    "                continue\n",
    "            \n",
    "            dim = eval(getattr(self,att)[\"dim\"])\n",
    "            value = getattr(self,att)[\"value\"]\n",
    "            setattr(self, att, value*dim)"
   ]
  },
  {
   "cell_type": "markdown",
   "metadata": {},
   "source": [
    "## Air"
   ]
  },
  {
   "cell_type": "code",
   "execution_count": null,
   "metadata": {},
   "outputs": [],
   "source": [
    "%nbdev_export\n",
    "class Air(Properties):\n",
    "    def __init__ (self, props={}):\n",
    "        \n",
    "        for key in props.keys():\n",
    "            setattr(self, key, props[key])\n",
    "        \n",
    "        for att in dir(self):\n",
    "            if att.startswith('__') or att.startswith('store') or att.startswith('Type'):\n",
    "                continue\n",
    "            \n",
    "            dim = eval(getattr(self,att)[\"dim\"])\n",
    "            value = getattr(self,att)[\"value\"]\n",
    "            setattr(self, att, value*dim)"
   ]
  },
  {
   "cell_type": "markdown",
   "metadata": {},
   "source": [
    "## Gas"
   ]
  },
  {
   "cell_type": "code",
   "execution_count": null,
   "metadata": {},
   "outputs": [],
   "source": [
    "%nbdev_export\n",
    "class Gas(Properties):\n",
    "    def __init__ (self, props={}):\n",
    "        \n",
    "        for key in props.keys():\n",
    "            setattr(self, key, props[key])\n",
    "        \n",
    "        for att in dir(self):\n",
    "            if att.startswith('__') or att.startswith('store') or att.startswith('Type'):\n",
    "                continue\n",
    "            \n",
    "            dim = eval(getattr(self,att)[\"dim\"])\n",
    "            vvalue = getattr(self,att)[\"value\"]\n",
    "            setattr(self, att, value*dim)"
   ]
  },
  {
   "cell_type": "markdown",
   "metadata": {},
   "source": [
    "## Temp"
   ]
  },
  {
   "cell_type": "code",
   "execution_count": null,
   "metadata": {},
   "outputs": [],
   "source": [
    "%nbdev_export\n",
    "class Soil(Properties):\n",
    "    def __init__ (self, props={}):\n",
    "        \n",
    "        for key in props.keys():\n",
    "            setattr(self, key, props[key])\n",
    "        \n",
    "        for att in dir(self):\n",
    "            if att.startswith('__') or att.startswith('store') or att.startswith('Type'):\n",
    "                continue\n",
    "            \n",
    "            dim = eval(getattr(self,att)[\"dim\"])\n",
    "            value = getattr(self,att)[\"value\"]\n",
    "            setattr(self, att, value*dim)"
   ]
  },
  {
   "cell_type": "code",
   "execution_count": null,
   "metadata": {},
   "outputs": [
    {
     "ename": "NameError",
     "evalue": "name 'notebook2script' is not defined",
     "output_type": "error",
     "traceback": [
      "\u001b[1;31m---------------------------------------------------------------------------\u001b[0m",
      "\u001b[1;31mNameError\u001b[0m                                 Traceback (most recent call last)",
      "\u001b[1;32m<ipython-input-66-0779206bda35>\u001b[0m in \u001b[0;36m<module>\u001b[1;34m\u001b[0m\n\u001b[0;32m      1\u001b[0m \u001b[0mget_ipython\u001b[0m\u001b[1;33m(\u001b[0m\u001b[1;33m)\u001b[0m\u001b[1;33m.\u001b[0m\u001b[0mrun_line_magic\u001b[0m\u001b[1;33m(\u001b[0m\u001b[1;34m'nbdev_hide'\u001b[0m\u001b[1;33m,\u001b[0m \u001b[1;34m''\u001b[0m\u001b[1;33m)\u001b[0m\u001b[1;33m\u001b[0m\u001b[1;33m\u001b[0m\u001b[0m\n\u001b[1;32m----> 2\u001b[1;33m \u001b[0mnotebook2script\u001b[0m\u001b[1;33m(\u001b[0m\u001b[1;33m)\u001b[0m\u001b[1;33m\u001b[0m\u001b[1;33m\u001b[0m\u001b[0m\n\u001b[0m",
      "\u001b[1;31mNameError\u001b[0m: name 'notebook2script' is not defined"
     ]
    }
   ],
   "source": [
    "%nbdev_hide\n",
    "notebook2script()"
   ]
  },
  {
   "cell_type": "code",
   "execution_count": null,
   "metadata": {},
   "outputs": [],
   "source": []
  }
 ],
 "metadata": {
  "kernelspec": {
   "display_name": "Python 3",
   "language": "python",
   "name": "python3"
  }
 },
 "nbformat": 4,
 "nbformat_minor": 4
}
