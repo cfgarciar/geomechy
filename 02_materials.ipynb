{
 "cells": [
  {
   "cell_type": "code",
   "execution_count": null,
   "metadata": {},
   "outputs": [
    {
     "name": "stdout",
     "output_type": "stream",
     "text": [
      "The autoreload extension is already loaded. To reload it, use:\n",
      "  %reload_ext autoreload\n"
     ]
    }
   ],
   "source": [
    "%load_ext autoreload\n",
    "%autoreload 2"
   ]
  },
  {
   "cell_type": "code",
   "execution_count": null,
   "metadata": {},
   "outputs": [
    {
     "name": "stdout",
     "output_type": "stream",
     "text": [
      "Cells will be exported to geomechy.materials,\n",
      "unless a different module is specified after an export flag: `%nbdev_export special.module`\n"
     ]
    }
   ],
   "source": [
    "from nbdev import *\n",
    "%nbdev_default_export materials\n",
    "%nbdev_default_class_level 3"
   ]
  },
  {
   "cell_type": "markdown",
   "metadata": {},
   "source": [
    "# Materials\n",
    "> all the materials"
   ]
  },
  {
   "cell_type": "code",
   "execution_count": null,
   "metadata": {},
   "outputs": [
    {
     "name": "stdout",
     "output_type": "stream",
     "text": [
      "ok\n"
     ]
    }
   ],
   "source": [
    "%nbdev_export\n",
    "from geomechy.base import BaseMaterial, Properties\n",
    "import numpy as np"
   ]
  },
  {
   "cell_type": "code",
   "execution_count": null,
   "metadata": {},
   "outputs": [],
   "source": [
    "np.set_printoptions(precision=2)"
   ]
  },
  {
   "cell_type": "markdown",
   "metadata": {},
   "source": [
    "## Elastic Isotropic"
   ]
  },
  {
   "cell_type": "code",
   "execution_count": null,
   "metadata": {},
   "outputs": [],
   "source": [
    "%nbdev_export\n",
    "class Elastic(BaseMaterial):\n",
    "    \n",
    "    def __init__(self, props):\n",
    "\n",
    "        #Call the BaseMaterial constructor\n",
    "        BaseMaterial.__init__(self, props)\n",
    "\n",
    "        #Create the hookean matrix\n",
    "        fc1 = self.E/((1+self.nu)*(1-2*self.nu))\n",
    "        fc2 = (1-2*self.nu)/2\n",
    "        D11 = self.nu*(np.ones(3)-np.eye(3))+(1-self.nu)*np.eye(3)\n",
    "        D12 = np.zeros((3,3))\n",
    "        D21 = D12.copy()\n",
    "        D22 = fc2*np.eye(3)\n",
    "\n",
    "        self.De = fc1*np.block([[D11,D12],[D21,D22]]) \n",
    "    \n",
    "    def getStress(self, deformation):\n",
    "        sigma = np.matmul(self.De, deformation.eps)\n",
    "        return sigma, self.De\n",
    "    \n",
    "    def getTangent(self):\n",
    "        return self.De"
   ]
  },
  {
   "cell_type": "markdown",
   "metadata": {},
   "source": [
    "## Plain Strain"
   ]
  },
  {
   "cell_type": "code",
   "execution_count": null,
   "metadata": {},
   "outputs": [],
   "source": [
    "%nbdev_export\n",
    "class PlaneStrain(BaseMaterial):\n",
    "    \n",
    "    def __init__(self, props):\n",
    "\n",
    "        #Call the BaseMaterial constructor\n",
    "        BaseMaterial.__init__(self, props)\n",
    "\n",
    "        #Create the hookean matrix\n",
    "        fc1 = self.E/((1+self.nu)*(1-2*self.nu))\n",
    "        fc2 = (1-2*self.nu)/2\n",
    "        D11 = self.nu*(np.ones(2)-np.eye(2))+(1-self.nu)*np.eye(2)\n",
    "        D12 = np.zeros((2,1))\n",
    "        D21 = np.zeros((1,2))\n",
    "        D22 = np.array([fc2]).reshape((1,1))\n",
    "\n",
    "        self.De = fc1*np.vstack([np.hstack([D11,D12]),np.hstack([D21,D22])])\n",
    "    \n",
    "    def getStress(self, deformation):\n",
    "        sigma = np.matmul(self.De, deformation.eps)\n",
    "        return sigma, self.De\n",
    "    \n",
    "    def getTangent(self):\n",
    "        return self.De"
   ]
  },
  {
   "cell_type": "markdown",
   "metadata": {},
   "source": [
    "## Plain Stress"
   ]
  },
  {
   "cell_type": "code",
   "execution_count": null,
   "metadata": {},
   "outputs": [],
   "source": [
    "%nbdev_export\n",
    "class PlaneStress(BaseMaterial):\n",
    "    \n",
    "    def __init__(self, props):\n",
    "\n",
    "        #Call the BaseMaterial constructor\n",
    "        BaseMaterial.__init__(self, props)\n",
    "\n",
    "        #Create the hookean matrix\n",
    "        fc1 = self.E/(1-self.nu**2)\n",
    "        fc2 = 1-self.nu\n",
    "        D11 = self.nu*(np.ones(2)-np.eye(2))+np.eye(2)\n",
    "        D12 = np.zeros((2,1))\n",
    "        D21 = np.zeros((1,2))\n",
    "        D22 = np.array([fc2]).reshape((1,1))\n",
    "\n",
    "        self.De = fc1*np.vstack([np.hstack([D11,D12]),np.hstack([D21,D22])])\n",
    "    \n",
    "    def getStress(self, deformation):\n",
    "        sigma = np.matmul(self.De, deformation.eps)\n",
    "        return sigma, self.De\n",
    "    \n",
    "    def getTangent(self):\n",
    "        return self.De"
   ]
  },
  {
   "cell_type": "markdown",
   "metadata": {},
   "source": [
    "## Elastic Transverse-Isotropic"
   ]
  },
  {
   "cell_type": "code",
   "execution_count": null,
   "metadata": {},
   "outputs": [],
   "source": [
    "%nbdev_export\n",
    "class TransverseIsotropic(BaseMaterial):\n",
    "    \n",
    "    def __init__(self, props):\n",
    "        \n",
    "        #Call the BaseMaterial constructor\n",
    "        BaseMaterial.__init__(self, props)\n",
    "\n",
    "        #Create the hookean matrix\n",
    "        fc1 = self.E2/(2*(1+self.nu23))\n",
    "        \n",
    "        D11 = np.ones((3,3))\n",
    "        D11[0,0] *= 1./self.E1\n",
    "        D11[1,1] *= 1./self.E2\n",
    "        D11[2,2] *= 1./self.E2\n",
    "        D11[0,1] *= -1.*self.nu12/self.E2\n",
    "        D11[1,0]  = D11[0,1].copy()\n",
    "        D11[0,2] *= -1.*self.nu12/self.E2\n",
    "        D11[2,0]  = D11[0,2].copy()\n",
    "        D11[1,2] *= -1.*self.nu23/self.E2\n",
    "        D11[2,1]  = D11[1,2].copy()\n",
    "        D12 = np.zeros((3,3))\n",
    "        D21 = D12.copy()\n",
    "        D22 = np.diagflat([self.G12, self.G12, fc1])\n",
    "        \n",
    "        self.De = np.linalg.inv(np.block([[D11,D12],[D21,D22]]))\n",
    "    \n",
    "    def getStress(self, deformation):\n",
    "        sigma = np.matmul(self.De, deformation.eps)\n",
    "        return sigma, self.De\n",
    "    \n",
    "    def getTangent(self):\n",
    "        return self.De"
   ]
  },
  {
   "cell_type": "code",
   "execution_count": null,
   "metadata": {},
   "outputs": [
    {
     "name": "stdout",
     "output_type": "stream",
     "text": [
      "Converted 00_core.ipynb.\n",
      "Converted 01_physics.ipynb.\n",
      "Converted 02_materials.ipynb.\n",
      "Converted 09_base.ipynb.\n",
      "Converted 10_utils.ipynb.\n",
      "Converted index.ipynb.\n"
     ]
    }
   ],
   "source": [
    "%nbdev_hide\n",
    "notebook2script()"
   ]
  },
  {
   "cell_type": "code",
   "execution_count": null,
   "metadata": {},
   "outputs": [],
   "source": []
  },
  {
   "cell_type": "code",
   "execution_count": null,
   "metadata": {},
   "outputs": [],
   "source": []
  }
 ],
 "metadata": {
  "kernelspec": {
   "display_name": "Python 3",
   "language": "python",
   "name": "python3"
  }
 },
 "nbformat": 4,
 "nbformat_minor": 4
}
