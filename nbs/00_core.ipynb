{
 "cells": [
  {
   "cell_type": "code",
   "execution_count": null,
   "metadata": {},
   "outputs": [],
   "source": [
    "%load_ext autoreload\n",
    "%autoreload 2"
   ]
  },
  {
   "cell_type": "code",
   "execution_count": null,
   "metadata": {},
   "outputs": [
    {
     "name": "stdout",
     "output_type": "stream",
     "text": [
      "Cells will be exported to geomechy.core,\n",
      "unless a different module is specified after an export flag: `%nbdev_export special.module`\n"
     ]
    }
   ],
   "source": [
    "from nbdev import *\n",
    "%nbdev_default_export core\n",
    "%nbdev_default_class_level 3"
   ]
  },
  {
   "cell_type": "code",
   "execution_count": null,
   "metadata": {},
   "outputs": [],
   "source": [
    "%nbdev_export\n",
    "class ElementObject:\n",
    "    \"Save important information of each element in the mesh\"\n",
    "    \n",
    "    def __init__(self, elemId, elemType='default', reduced=True, physic='default'):\n",
    "        self.elemId = elemId\n",
    "        self.elemtype = elemType\n",
    "        self.reduced = reduced\n",
    "        self.physic = physic\n",
    "    \n",
    "    def __str__(self):\n",
    "        return f\"Element id: {self.elemID}\\n Element Type: {self.elemType}\\n\""
   ]
  },
  {
   "cell_type": "code",
   "execution_count": null,
   "metadata": {},
   "outputs": [],
   "source": [
    "%nbdev_export\n",
    "class ElementObject:\n",
    "    \"Save important information of each element in the mesh\"\n",
    "    \n",
    "    def __init__(self, elemId, elemType='default', reduced=True, physic='default'):\n",
    "        self.elemId = elemId\n",
    "        self.elemtype = elemType\n",
    "        self.reduced = reduced\n",
    "        self.physic = physic\n",
    "    \n",
    "    def __str__(self):\n",
    "        return f\"Element id: {self.elemID}\\n Element Type: {self.elemType}\\n\""
   ]
  },
  {
   "cell_type": "code",
   "execution_count": null,
   "metadata": {},
   "outputs": [
    {
     "name": "stdout",
     "output_type": "stream",
     "text": [
      "Converted 00_core.ipynb.\n",
      "Converted index.ipynb.\n"
     ]
    }
   ],
   "source": [
    "%nbdev_hide\n",
    "notebook2script()"
   ]
  },
  {
   "cell_type": "code",
   "execution_count": null,
   "metadata": {},
   "outputs": [],
   "source": []
  }
 ],
 "metadata": {
  "kernelspec": {
   "display_name": "Python 3",
   "language": "python",
   "name": "python3"
  }
 },
 "nbformat": 4,
 "nbformat_minor": 2
}
