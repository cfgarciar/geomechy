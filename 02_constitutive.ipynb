{
 "cells": [
  {
   "cell_type": "code",
   "execution_count": null,
   "metadata": {},
   "outputs": [],
   "source": [
    "%load_ext autoreload\n",
    "%autoreload 2"
   ]
  },
  {
   "cell_type": "code",
   "execution_count": null,
   "metadata": {},
   "outputs": [
    {
     "name": "stdout",
     "output_type": "stream",
     "text": [
      "Cells will be exported to geomechy.constitutive,\n",
      "unless a different module is specified after an export flag: `%nbdev_export special.module`\n"
     ]
    }
   ],
   "source": [
    "from nbdev import *\n",
    "%nbdev_default_export constitutive\n",
    "%nbdev_default_class_level 3"
   ]
  },
  {
   "cell_type": "markdown",
   "metadata": {},
   "source": [
    "# Constitutive\n",
    "> all the constitutive models"
   ]
  },
  {
   "cell_type": "code",
   "execution_count": null,
   "metadata": {},
   "outputs": [],
   "source": [
    "%nbdev_export\n",
    "from geomechy.base import BaseMaterial, Properties\n",
    "import numpy as np"
   ]
  },
  {
   "cell_type": "code",
   "execution_count": null,
   "metadata": {},
   "outputs": [],
   "source": [
    "np.set_printoptions(precision=2)"
   ]
  },
  {
   "cell_type": "markdown",
   "metadata": {},
   "source": [
    "## Elastic Isotropic"
   ]
  },
  {
   "cell_type": "code",
   "execution_count": null,
   "metadata": {},
   "outputs": [],
   "source": [
    "%nbdev_export\n",
    "class Elastic(BaseMaterial):\n",
    "    \n",
    "    def __init__(self, props):\n",
    "\n",
    "        #Call the BaseMaterial constructor\n",
    "        BaseMaterial.__init__(self, props)\n",
    "\n",
    "        #Create the hookean matrix\n",
    "        fc1 = self.E/((1+self.nu)*(1-2*self.nu))\n",
    "        fc2 = (1-2*self.nu)/2\n",
    "        D11 = self.nu*(np.ones(3)-np.eye(3))+(1-self.nu)*np.eye(3)\n",
    "        D12 = np.zeros((3,3))\n",
    "        D21 = D12.copy()\n",
    "        D22 = fc2*np.eye(3)\n",
    "\n",
    "        self.De = fc1*np.block([[D11,D12],[D21,D22]]) \n",
    "    \n",
    "    def getStress(self, deformation):\n",
    "        sigma = np.matmul(self.De, deformation.eps)\n",
    "        return sigma, self.De\n",
    "    \n",
    "    def getTangent(self):\n",
    "        return self.De"
   ]
  },
  {
   "cell_type": "code",
   "execution_count": null,
   "metadata": {},
   "outputs": [
    {
     "name": "stdout",
     "output_type": "stream",
     "text": [
      "{'E': 500, 'nu': 0.3}\n"
     ]
    },
    {
     "data": {
      "text/plain": [
       "[]"
      ]
     },
     "execution_count": null,
     "metadata": {},
     "output_type": "execute_result"
    }
   ],
   "source": [
    "soil = Elastic({\"E\": 500, \"nu\":0.3})\n",
    "soil.setHistoryParameter(\"E\", 400)\n",
    "# soil.commitHistory()\n",
    "# soil.getHistoryParameter(\"E\")\n",
    "soil.current"
   ]
  },
  {
   "cell_type": "markdown",
   "metadata": {},
   "source": [
    "## Plain Strain"
   ]
  },
  {
   "cell_type": "code",
   "execution_count": null,
   "metadata": {},
   "outputs": [],
   "source": [
    "%nbdev_export\n",
    "class PlaneStrain(BaseMaterial):\n",
    "    \n",
    "    def __init__(self, props):\n",
    "\n",
    "        #Call the BaseMaterial constructor\n",
    "        BaseMaterial.__init__(self, props)\n",
    "\n",
    "        #Create the hookean matrix\n",
    "        fc1 = self.E/((1+self.nu)*(1-2*self.nu))\n",
    "        fc2 = (1-2*self.nu)/2\n",
    "        D11 = self.nu*(np.ones(2)-np.eye(2))+(1-self.nu)*np.eye(2)\n",
    "        D12 = np.zeros((2,1))\n",
    "        D21 = np.zeros((1,2))\n",
    "        D22 = np.array([fc2]).reshape((1,1))\n",
    "\n",
    "        self.De = fc1*np.vstack([np.hstack([D11,D12]),np.hstack([D21,D22])])\n",
    "    \n",
    "    def getStress(self, deformation):\n",
    "        sigma = np.matmul(self.De, deformation.eps)\n",
    "        return sigma, self.De\n",
    "    \n",
    "    def getTangent(self):\n",
    "        return self.De"
   ]
  },
  {
   "cell_type": "markdown",
   "metadata": {},
   "source": [
    "## Plain Stress"
   ]
  },
  {
   "cell_type": "code",
   "execution_count": null,
   "metadata": {},
   "outputs": [],
   "source": [
    "%nbdev_export\n",
    "class PlaneStress(BaseMaterial):\n",
    "    \n",
    "    def __init__(self, props):\n",
    "\n",
    "        #Call the BaseMaterial constructor\n",
    "        BaseMaterial.__init__(self, props)\n",
    "\n",
    "        #Create the hookean matrix\n",
    "        fc1 = self.E/(1-self.nu**2)\n",
    "        fc2 = 1-self.nu\n",
    "        D11 = self.nu*(np.ones(2)-np.eye(2))+np.eye(2)\n",
    "        D12 = np.zeros((2,1))\n",
    "        D21 = np.zeros((1,2))\n",
    "        D22 = np.array([fc2]).reshape((1,1))\n",
    "\n",
    "        self.De = fc1*np.vstack([np.hstack([D11,D12]),np.hstack([D21,D22])])\n",
    "    \n",
    "    def getStress(self, deformation):\n",
    "        sigma = np.matmul(self.De, deformation.eps)\n",
    "        return sigma, self.De\n",
    "    \n",
    "    def getTangent(self):\n",
    "        return self.De"
   ]
  },
  {
   "cell_type": "markdown",
   "metadata": {},
   "source": [
    "## Elastic Transverse-Isotropic"
   ]
  },
  {
   "cell_type": "code",
   "execution_count": null,
   "metadata": {},
   "outputs": [],
   "source": [
    "%nbdev_export\n",
    "class TransverseIsotropic(BaseMaterial):\n",
    "    \n",
    "    def __init__(self, props):\n",
    "        \n",
    "        #Call the BaseMaterial constructor\n",
    "        BaseMaterial.__init__(self, props)\n",
    "\n",
    "        #Create the hookean matrix\n",
    "        fc1 = self.E2/(2*(1+self.nu23))\n",
    "        \n",
    "        D11 = np.ones((3,3))\n",
    "        D11[0,0] *= 1./self.E1\n",
    "        D11[1,1] *= 1./self.E2\n",
    "        D11[2,2] *= 1./self.E2\n",
    "        D11[0,1] *= -1.*self.nu12/self.E2\n",
    "        D11[1,0]  = D11[0,1].copy()\n",
    "        D11[0,2] *= -1.*self.nu12/self.E2\n",
    "        D11[2,0]  = D11[0,2].copy()\n",
    "        D11[1,2] *= -1.*self.nu23/self.E2\n",
    "        D11[2,1]  = D11[1,2].copy()\n",
    "        D12 = np.zeros((3,3))\n",
    "        D21 = D12.copy()\n",
    "        D22 = np.diagflat([self.G12, self.G12, fc1])\n",
    "        \n",
    "        self.De = np.linalg.inv(np.block([[D11,D12],[D21,D22]]))\n",
    "    \n",
    "    def getStress(self, deformation):\n",
    "        sigma = np.matmul(self.De, deformation.eps)\n",
    "        return sigma, self.De\n",
    "    \n",
    "    def getTangent(self):\n",
    "        return self.De"
   ]
  },
  {
   "cell_type": "code",
   "execution_count": null,
   "metadata": {},
   "outputs": [
    {
     "ename": "NameError",
     "evalue": "name 'notebook2script' is not defined",
     "output_type": "error",
     "traceback": [
      "\u001b[1;31m---------------------------------------------------------------------------\u001b[0m",
      "\u001b[1;31mNameError\u001b[0m                                 Traceback (most recent call last)",
      "\u001b[1;32m<ipython-input-9-0779206bda35>\u001b[0m in \u001b[0;36m<module>\u001b[1;34m\u001b[0m\n\u001b[0;32m      1\u001b[0m \u001b[0mget_ipython\u001b[0m\u001b[1;33m(\u001b[0m\u001b[1;33m)\u001b[0m\u001b[1;33m.\u001b[0m\u001b[0mrun_line_magic\u001b[0m\u001b[1;33m(\u001b[0m\u001b[1;34m'nbdev_hide'\u001b[0m\u001b[1;33m,\u001b[0m \u001b[1;34m''\u001b[0m\u001b[1;33m)\u001b[0m\u001b[1;33m\u001b[0m\u001b[1;33m\u001b[0m\u001b[0m\n\u001b[1;32m----> 2\u001b[1;33m \u001b[0mnotebook2script\u001b[0m\u001b[1;33m(\u001b[0m\u001b[1;33m)\u001b[0m\u001b[1;33m\u001b[0m\u001b[1;33m\u001b[0m\u001b[0m\n\u001b[0m",
      "\u001b[1;31mNameError\u001b[0m: name 'notebook2script' is not defined"
     ]
    }
   ],
   "source": [
    "%nbdev_hide\n",
    "notebook2script()"
   ]
  },
  {
   "cell_type": "code",
   "execution_count": null,
   "metadata": {},
   "outputs": [],
   "source": []
  },
  {
   "cell_type": "code",
   "execution_count": null,
   "metadata": {},
   "outputs": [],
   "source": []
  }
 ],
 "metadata": {
  "kernelspec": {
   "display_name": "Python 3",
   "language": "python",
   "name": "python3"
  }
 },
 "nbformat": 4,
 "nbformat_minor": 4
}
