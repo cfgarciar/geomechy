{
 "cells": [
  {
   "cell_type": "code",
   "execution_count": null,
   "metadata": {},
   "outputs": [],
   "source": [
    "%load_ext autoreload\n",
    "%autoreload 2"
   ]
  },
  {
   "cell_type": "code",
   "execution_count": null,
   "metadata": {},
   "outputs": [
    {
     "name": "stdout",
     "output_type": "stream",
     "text": [
      "Cells will be exported to geomechy.physics,\n",
      "unless a different module is specified after an export flag: `%nbdev_export special.module`\n"
     ]
    }
   ],
   "source": [
    "from nbdev import *\n",
    "%nbdev_default_export physics\n",
    "%nbdev_default_class_level 3"
   ]
  },
  {
   "cell_type": "code",
   "execution_count": null,
   "metadata": {},
   "outputs": [],
   "source": [
    "%nbdev_export\n",
    "import numpy as np\n",
    "from geomechy.base import BaseElement\n",
    "from geomechy.fem import bcField\n",
    "from geomechy.core import NodeSet, ElementSet, GroupSet, ShapeFunctionsManager, MaterialSet, ConstitutiveManager, ElementManager"
   ]
  },
  {
   "cell_type": "code",
   "execution_count": null,
   "metadata": {},
   "outputs": [],
   "source": [
    "from geomechy.base import ItemDict, BaseElement\n",
    "from geomechy.utils import *\n",
    "from geomechy.io import jsonReader\n",
    "from geomechy.materials import *\n",
    "from geomechy.shape import *\n",
    "from geomechy.constitutive import *"
   ]
  },
  {
   "cell_type": "markdown",
   "metadata": {},
   "source": [
    "# Physics\n",
    "> Main problems"
   ]
  },
  {
   "cell_type": "markdown",
   "metadata": {},
   "source": [
    "## Hydro Monophasic"
   ]
  },
  {
   "cell_type": "code",
   "execution_count": null,
   "metadata": {},
   "outputs": [],
   "source": [
    "%nbdev_export\n",
    "class MonoHydroPerm:\n",
    "    def __init__(self, elements):\n",
    "        self.elements = elements\n",
    "        \n",
    "    def assembleSystem(self):\n",
    "        pass\n",
    "    \n",
    "    def assembleH(self):\n",
    "        H = np.zeros((self.elements.numNodes,self.elements.numNodes))\n",
    "        for e in range(self.elements.numElems):\n",
    "            He = self.getHeMatrix(self.elements[e+1])\n",
    "            Le = self.elements[e+1].Le\n",
    "            H = H + np.matmul(Le.T.todense(),np.matmul(He,Le.todense()))\n",
    "        return H\n",
    "    \n",
    "    def getFem(self,data):\n",
    "        bc = bcField()\n",
    "        bc.readFromDict(data)\n",
    "        p, fext = bc.getVectors()\n",
    "        return p, fext\n",
    "\n",
    "    \n",
    "    def getHeMatrix(self, elem):\n",
    "        He = np.zeros(elem.dN[0].shape[1])\n",
    "        for g, data in enumerate(elem.gp):\n",
    "            Ng, Bg, Jg, Wg  = self.getShapeData(elem, g)\n",
    "            k_perm, v_visco = self.getMaterialData(elem)\n",
    "            He = He + np.matmul(Bg.T,(k_perm/v_visco)*Bg)*Jg*Wg\n",
    "        return He\n",
    "\n",
    "    \n",
    "    def getShapeData(self, elem, g):\n",
    "        Wg       = elem.we[g][0]\n",
    "        Ng       = elem.N[g]\n",
    "        dNg      = elem.dN[g]\n",
    "        coords   = elem.coords\n",
    "        matrixJg = np.matmul(dNg, coords)\n",
    "        Jg       = np.linalg.det(matrixJg)\n",
    "        invJg    = np.linalg.inv(matrixJg)\n",
    "        Bg       = np.matmul(invJg, dNg)\n",
    "        gCoords  = np.matmul(Ng, coords)\n",
    "        \n",
    "        return Ng, Bg, Jg, Wg\n",
    " \n",
    "\n",
    "    def getMaterialData(self, elem):      \n",
    "        for _, data in elem.mat.items():\n",
    "            if data.Type == \"Soil\" or data.Type == \"Rock\":\n",
    "                k_perm  = data.permeability\n",
    "            elif data.Type == \"Water\" or data.Type == \"Oil\":\n",
    "                v_visco = data.dynamic_viscosity\n",
    "            elif data.Type == \"Gas\" or data.Type == \"Air\":\n",
    "                v_visco = data.dynamic_viscosity\n",
    "                \n",
    "        return k_perm, v_visco\n",
    "        "
   ]
  },
  {
   "cell_type": "code",
   "execution_count": null,
   "metadata": {},
   "outputs": [
    {
     "data": {
      "text/plain": [
       "array([[0.    , 3.6576],\n",
       "       [0.    , 0.    ],\n",
       "       [3.048 , 0.3048],\n",
       "       [3.048 , 3.6576]])"
      ]
     },
     "execution_count": null,
     "metadata": {},
     "output_type": "execute_result"
    }
   ],
   "source": [
    "jsonFile = \"./assets/json/template.json\"\n",
    "data = jsonReader(jsonFile)\n",
    "\n",
    "nodes = NodeSet()\n",
    "nodes.readFromDict(data)\n",
    "\n",
    "elems = ElementSet()\n",
    "elems.readFromDict(data)\n",
    "\n",
    "groups = GroupSet(data[\"Groups\"])\n",
    "\n",
    "shapes = ShapeFunctionsManager(nodes, elems)\n",
    "shapes.getShapeFunc()\n",
    "\n",
    "mats = MaterialSet(data[\"Materials\"])\n",
    "\n",
    "constis = ConstitutiveManager(data[\"Constitutive\"])\n",
    "\n",
    "elements = ElementManager(nodes, elems, groups, shapes, mats, constis)\n",
    "elements[1].coords"
   ]
  },
  {
   "cell_type": "code",
   "execution_count": null,
   "metadata": {},
   "outputs": [
    {
     "data": {
      "text/plain": [
       "array([[100.],\n",
       "       [ -1.],\n",
       "       [ -1.],\n",
       "       [100.],\n",
       "       [  0.],\n",
       "       [  0.]])"
      ]
     },
     "execution_count": null,
     "metadata": {},
     "output_type": "execute_result"
    }
   ],
   "source": [
    "flux = MonoHydroPerm(elements)\n",
    "H = flux.assembleH()\n",
    "p, fext = flux.getFem(data)\n",
    "p"
   ]
  },
  {
   "cell_type": "markdown",
   "metadata": {},
   "source": [
    "## Geomechanic"
   ]
  },
  {
   "cell_type": "code",
   "execution_count": null,
   "metadata": {},
   "outputs": [],
   "source": [
    "%nbdev_export\n",
    "class Geomechanic():\n",
    "    pass"
   ]
  },
  {
   "cell_type": "code",
   "execution_count": null,
   "metadata": {},
   "outputs": [],
   "source": []
  },
  {
   "cell_type": "code",
   "execution_count": null,
   "metadata": {},
   "outputs": [
    {
     "name": "stdout",
     "output_type": "stream",
     "text": [
      "Converted 00_core.ipynb.\n",
      "Converted 01_physics.ipynb.\n",
      "Converted 02_constitutive.ipynb.\n",
      "Converted 03_shape.ipynb.\n",
      "Converted 04_io.ipynb.\n",
      "Converted 06_materials.ipynb.\n",
      "Converted 08_Modules.ipynb.\n",
      "Converted 09_base.ipynb.\n",
      "Converted 10_utils.ipynb.\n",
      "Converted index.ipynb.\n",
      "Converted test.ipynb.\n"
     ]
    }
   ],
   "source": [
    "%nbdev_hide\n",
    "notebook2script()"
   ]
  },
  {
   "cell_type": "code",
   "execution_count": null,
   "metadata": {},
   "outputs": [],
   "source": []
  }
 ],
 "metadata": {
  "kernelspec": {
   "display_name": "Python 3",
   "language": "python",
   "name": "python3"
  }
 },
 "nbformat": 4,
 "nbformat_minor": 4
}
