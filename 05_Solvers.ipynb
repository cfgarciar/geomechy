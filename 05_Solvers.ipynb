{
 "cells": [
  {
   "cell_type": "code",
   "execution_count": null,
   "metadata": {},
   "outputs": [],
   "source": [
    "%load_ext autoreload\n",
    "%autoreload 2"
   ]
  },
  {
   "cell_type": "code",
   "execution_count": null,
   "metadata": {},
   "outputs": [
    {
     "name": "stdout",
     "output_type": "stream",
     "text": [
      "Cells will be exported to geomechy.core,\n",
      "unless a different module is specified after an export flag: `%nbdev_export special.module`\n"
     ]
    }
   ],
   "source": [
    "from nbdev import *\n",
    "%nbdev_default_export core\n",
    "%nbdev_default_class_level 3"
   ]
  },
  {
   "cell_type": "code",
   "execution_count": null,
   "metadata": {},
   "outputs": [],
   "source": [
    "%nbdev_export\n",
    "import numpy as np\n",
    "import scipy\n",
    "from scipy.sparse.linalg import spsolve\n",
    "from scipy.io import loadmat\n",
    "import torch\n",
    "import time\n",
    "from geomechy.base import BaseLinearSolver\n",
    "from geomechy.utils import lanczos, arnoldi"
   ]
  },
  {
   "cell_type": "markdown",
   "metadata": {},
   "source": [
    "# Solvers\n",
    "> All solvers routines"
   ]
  },
  {
   "cell_type": "markdown",
   "metadata": {},
   "source": [
    "## Time Integration Solvers"
   ]
  },
  {
   "cell_type": "markdown",
   "metadata": {},
   "source": [
    "### Forward Euler"
   ]
  },
  {
   "cell_type": "code",
   "execution_count": null,
   "metadata": {},
   "outputs": [],
   "source": [
    "#%nbdev_export\n",
    "class ForwardEuler:\n",
    "    pass"
   ]
  },
  {
   "cell_type": "markdown",
   "metadata": {},
   "source": [
    "### Backward Euler"
   ]
  },
  {
   "cell_type": "code",
   "execution_count": null,
   "metadata": {},
   "outputs": [],
   "source": [
    "#%nbdev_export\n",
    "class BackwardEuler:\n",
    "    pass"
   ]
  },
  {
   "cell_type": "markdown",
   "metadata": {},
   "source": [
    "### Crank-Nicolson"
   ]
  },
  {
   "cell_type": "code",
   "execution_count": null,
   "metadata": {},
   "outputs": [],
   "source": [
    "#%nbdev_export\n",
    "class CrankNicolson:\n",
    "    pass"
   ]
  },
  {
   "cell_type": "markdown",
   "metadata": {},
   "source": [
    "### Runge Kutta -> RK4"
   ]
  },
  {
   "cell_type": "code",
   "execution_count": null,
   "metadata": {},
   "outputs": [],
   "source": [
    "#%nbdev_export\n",
    "class RK4:\n",
    "    pass"
   ]
  },
  {
   "cell_type": "markdown",
   "metadata": {},
   "source": [
    "## Iterative Linear Solvers"
   ]
  },
  {
   "cell_type": "markdown",
   "metadata": {},
   "source": [
    "### Steepest Descent Method"
   ]
  },
  {
   "cell_type": "code",
   "execution_count": null,
   "metadata": {},
   "outputs": [],
   "source": [
    "#%nbdev_export\n",
    "class SteepestDescent(BaseLinearSolver):\n",
    "    \n",
    "    def __init__(self, A, b, xo, tol=1e-10, maxIter=10000):\n",
    "        BaseLinearSolver.__init__(self, A, b, xo, tol, maxIter)\n",
    "    \n",
    "    def solve(self):\n",
    "        \n",
    "        r = self.b - torch.matmul(self.A,self.xo)\n",
    "        x = self.xo\n",
    "        iIter = 1\n",
    "        \n",
    "        while torch.norm(r)>=self.tol and iIter<=self.maxIter:\n",
    "            alpha = (torch.matmul(r.T,r))/(torch.matmul(r.T,torch.matmul(self.A,r)))\n",
    "            x = x + alpha*r\n",
    "            r = self.b - torch.matmul(self.A,x)\n",
    "            iIter += 1\n",
    "        return x.cpu().numpy(), iIter, torch.norm(r)"
   ]
  },
  {
   "cell_type": "code",
   "execution_count": null,
   "metadata": {},
   "outputs": [],
   "source": [
    "A  = loadmat('./assets/matlab/ACG.mat')[\"ACG\"]#.toarray()\n",
    "b  = loadmat('./assets/matlab/b.mat')[\"b\"]\n",
    "xo = loadmat('./assets/matlab/xo.mat')[\"xo\"]\n",
    "algo = SteepestDescent(A,b,xo, maxIter=2e5)"
   ]
  },
  {
   "cell_type": "code",
   "execution_count": null,
   "metadata": {},
   "outputs": [
    {
     "name": "stdout",
     "output_type": "stream",
     "text": [
      "[[ 118.5629]\n",
      " [  95.7831]\n",
      " [ 275.7696]\n",
      " [ -26.7872]\n",
      " [ -25.7977]\n",
      " [  -2.9711]\n",
      " [ -66.834 ]\n",
      " [ -19.3519]\n",
      " [-276.8964]]\n",
      "11\n",
      "0.9877643585205078\n",
      "742.4999171362787\n"
     ]
    }
   ],
   "source": [
    "start_1 = time.time()\n",
    "x, iIter, error = algo.solve()\n",
    "finish_1 = time.time() - start_1\n",
    "\n",
    "print(x[1:10])\n",
    "print(iIter)\n",
    "print(finish_1)\n",
    "print(error)"
   ]
  },
  {
   "cell_type": "code",
   "execution_count": null,
   "metadata": {},
   "outputs": [
    {
     "name": "stdout",
     "output_type": "stream",
     "text": [
      "[[ 9.0119e+01]\n",
      " [ 3.8219e+02]\n",
      " [ 1.0397e+03]\n",
      " [ 1.5116e+00]\n",
      " [-1.3236e+01]\n",
      " [ 5.6058e-01]\n",
      " [-4.0081e+02]\n",
      " [ 1.1652e+03]\n",
      " [-1.5533e+02]]\n",
      "0.004999876022338867\n"
     ]
    }
   ],
   "source": [
    "device  = torch.device('cuda' if torch.cuda.is_available() else 'cpu')\n",
    "b_torch  = torch.from_numpy(b).type(torch.float64).to(device)\n",
    "A_torch  = torch.from_numpy(A.todense()).type(torch.float64).to(device)\n",
    "start_2 = time.time()\n",
    "x_torch,_ = torch.solve(b_torch, A_torch)\n",
    "finish_2 = time.time() - start_2\n",
    "print(x_torch.cpu().numpy()[1:10])\n",
    "print(finish_2)"
   ]
  },
  {
   "cell_type": "code",
   "execution_count": null,
   "metadata": {},
   "outputs": [
    {
     "name": "stdout",
     "output_type": "stream",
     "text": [
      "[ 9.0119e+01  3.8219e+02  1.0397e+03  1.5116e+00 -1.3236e+01  5.6058e-01\n",
      " -4.0081e+02  1.1652e+03 -1.5533e+02]\n",
      "0.0\n"
     ]
    }
   ],
   "source": [
    "start_3 = time.time()\n",
    "x_scipy = spsolve(A, b)\n",
    "finish_3 = time.time() - start_3\n",
    "print(x_scipy[1:10])\n",
    "print(finish_3)"
   ]
  },
  {
   "cell_type": "markdown",
   "metadata": {},
   "source": [
    "### Conjugate Gradient Method"
   ]
  },
  {
   "cell_type": "code",
   "execution_count": null,
   "metadata": {},
   "outputs": [],
   "source": [
    "#%nbdev_export\n",
    "class CG(BaseLinearSolver):\n",
    "    def __init__(self, A, b, xo, tol=1e-10, maxIter=10000):\n",
    "        BaseLinearSolver.__init__(self, A, b, xo, tol, maxIter)\n",
    "    \n",
    "    def solve(self):\n",
    "        r = self.b - torch.matmul(self.A,self.xo)\n",
    "        p = r.clone()\n",
    "        x = self.xo\n",
    "        tol = self.tol**2\n",
    "        \n",
    "        for i in range(int(self.maxIter)):\n",
    "            normrsqr = torch.matmul(r.T,r)\n",
    "            w = torch.matmul(self.A,p)\n",
    "            alpha = normrsqr/torch.matmul(p.T,w)\n",
    "            x = x + alpha*p;\n",
    "            r = r - alpha*w;\n",
    "            normrnewsqr = torch.matmul(r.T,r)\n",
    "            if normrnewsqr<tol:\n",
    "                iIter = i\n",
    "                return x.cpu().numpy(), iIter, normrnewsqr.cpu().item()\n",
    "            beta = normrnewsqr/normrsqr;\n",
    "            p = r + beta*p;\n",
    "        return x.cpu().numpy(), iIter, normrnewsqr.cpu().item()"
   ]
  },
  {
   "cell_type": "code",
   "execution_count": null,
   "metadata": {},
   "outputs": [],
   "source": [
    "#A = loadmat('./assets/matlab/ACG.mat')[\"ACG\"].toarray()\n",
    "#b = np.random.randn(100,1)\n",
    "#xo = np.random.randn(100,1)\n",
    "algo = CG(A,b,xo)"
   ]
  },
  {
   "cell_type": "code",
   "execution_count": null,
   "metadata": {},
   "outputs": [
    {
     "name": "stdout",
     "output_type": "stream",
     "text": [
      "[[ 9.0119e+01]\n",
      " [ 3.8219e+02]\n",
      " [ 1.0397e+03]\n",
      " [ 1.5116e+00]\n",
      " [-1.3236e+01]\n",
      " [ 5.6058e-01]\n",
      " [-4.0081e+02]\n",
      " [ 1.1652e+03]\n",
      " [-1.5533e+02]]\n",
      "730\n",
      "0.1699979305267334\n",
      "8.034565663542085e-21\n"
     ]
    }
   ],
   "source": [
    "start_1 = time.time()\n",
    "x, iIter, error = algo.solve()\n",
    "finish_1 = time.time() - start_1\n",
    "\n",
    "print(x[1:10])\n",
    "print(iIter)\n",
    "print(finish_1)\n",
    "print(error)"
   ]
  },
  {
   "cell_type": "markdown",
   "metadata": {},
   "source": [
    "### Preconditioned Conjugate Gradient Method"
   ]
  },
  {
   "cell_type": "code",
   "execution_count": null,
   "metadata": {},
   "outputs": [],
   "source": [
    "#%nbdev_export\n",
    "class PreCG(BaseLinearSolver):\n",
    "    def __init__(self, A, b, xo, tol=1e-5, maxIter=10000,method=\"cholesky\",droptol=1.0e-4):\n",
    "        BaseLinearSolver.__init__(self, A, b, xo, tol, maxIter)\n",
    "        self.method  = method\n",
    "        self.droptol = droptol\n",
    "    \n",
    "    def cholesky(self,r):\n",
    "        R = torch.cholesky(self.A, upper=True)\n",
    "        sol_1, _ = torch.solve(r,R.T)\n",
    "        sol_2, _ = torch.solve(sol_1,R)\n",
    "        return sol_2\n",
    "    \n",
    "    def SSOR(self, r):\n",
    "        L = torch.tril(self.A, diagonal=-1)\n",
    "        D = torch.diag(torch.diag(self.A))\n",
    "        U = torch.triu(self.A,diagonal=1)\n",
    "        sol_1, _ = torch.solve(r,L+D)\n",
    "        sol_2, _ = torch.solve(torch.matmul(D,sol_1),U+D)\n",
    "        \n",
    "        return sol_2\n",
    "    \n",
    "    def solve(self):\n",
    "        r = self.b - torch.matmul(self.A,self.xo)\n",
    "        z = self.SSOR(r) if self.method == \"SSOR\" else self.cholesky(r)\n",
    "        p = z.clone()\n",
    "        x = self.xo.clone()\n",
    "        \n",
    "        for i in range(self.maxIter):\n",
    "            alpha = torch.matmul(r.T,z)/torch.matmul(p.T,torch.matmul(self.A,p))\n",
    "            x = x + alpha*p\n",
    "            prevr = r.clone()\n",
    "            prevz = z.clone()\n",
    "            r = r - alpha*torch.matmul(self.A,p)\n",
    "            residual = torch.norm(r)\n",
    "            if residual<self.tol:\n",
    "                iIter = i\n",
    "                return x.cpu().numpy(), iIter, residual.cpu().item()\n",
    "            z = self.SSOR(r) if self.method == \"SSOR\" else self.cholesky(r)\n",
    "            beta = torch.matmul(r.T,z)/torch.matmul(prevr.T,prevz);\n",
    "            p = z + beta*p\n",
    "            iIter = i\n",
    "            \n",
    "        return x.cpu().numpy(), iIter, residual.cpu().item()"
   ]
  },
  {
   "cell_type": "code",
   "execution_count": null,
   "metadata": {},
   "outputs": [],
   "source": [
    "algo = PreCG(A,b,xo)"
   ]
  },
  {
   "cell_type": "code",
   "execution_count": null,
   "metadata": {},
   "outputs": [
    {
     "name": "stdout",
     "output_type": "stream",
     "text": [
      "[[ 9.0119e+01]\n",
      " [ 3.8219e+02]\n",
      " [ 1.0397e+03]\n",
      " [ 1.5116e+00]\n",
      " [-1.3236e+01]\n",
      " [ 5.6058e-01]\n",
      " [-4.0081e+02]\n",
      " [ 1.1652e+03]\n",
      " [-1.5533e+02]]\n",
      "0\n",
      "0.01518392562866211\n",
      "2.787126526865159e-13\n"
     ]
    }
   ],
   "source": [
    "start_1 = time.time()\n",
    "x, iIter, error = algo.solve()\n",
    "finish_1 = time.time() - start_1\n",
    "\n",
    "print(x[1:10])\n",
    "print(iIter)\n",
    "print(finish_1)\n",
    "print(error)"
   ]
  },
  {
   "cell_type": "markdown",
   "metadata": {},
   "source": [
    "### MINRES Method"
   ]
  },
  {
   "cell_type": "code",
   "execution_count": null,
   "metadata": {},
   "outputs": [],
   "source": [
    "#%nbdev_export\n",
    "class MINRES(BaseLinearSolver):\n",
    "    \n",
    "    def __init__(self, A, b, xo, tol=1e-10, maxIter=10000, m=50):\n",
    "        BaseLinearSolver.__init__(self, A, b, xo, tol, maxIter)\n",
    "        self.m = m\n",
    "    \n",
    "    def solve(self):\n",
    "        iIter=1\n",
    "        while iIter <= self.maxIter:\n",
    "            r        = self.b - torch.matmul(self.A,self.xo)\n",
    "            Q, T     = lanczos(self.A,r,self.m,1)\n",
    "            beta     = torch.norm(r)\n",
    "            e1       = torch.zeros(self.m+1,1, dtype=torch.float64, device=self.device)\n",
    "            e1[0]    = 1\n",
    "            y,_      = torch.lstsq(beta*e1, T.to(self.device))\n",
    "            x        = self.xo + Q.to(self.device)@y\n",
    "            residual = torch.norm(self.b - torch.matmul(self.A,x))\n",
    "\n",
    "            if residual < self.tol:\n",
    "                return x.cpu().numpy(), iIter, residual.cpu().item()\n",
    "            \n",
    "            self.xo = x\n",
    "            iIter = iIter + 1\n",
    "        \n",
    "        return x.cpu().numpy(), iIter, residual.cpu().item()"
   ]
  },
  {
   "cell_type": "code",
   "execution_count": null,
   "metadata": {},
   "outputs": [],
   "source": [
    "algo = MINRES(A,b,xo)"
   ]
  },
  {
   "cell_type": "code",
   "execution_count": null,
   "metadata": {},
   "outputs": [
    {
     "name": "stdout",
     "output_type": "stream",
     "text": [
      "[[ 9.0119e+01]\n",
      " [ 3.8219e+02]\n",
      " [ 1.0397e+03]\n",
      " [ 1.5116e+00]\n",
      " [-1.3236e+01]\n",
      " [ 5.6058e-01]\n",
      " [-4.0081e+02]\n",
      " [ 1.1652e+03]\n",
      " [-1.5533e+02]]\n",
      "60\n",
      "8.686875445481921e-11\n",
      "5.862236261367798\n"
     ]
    }
   ],
   "source": [
    "start_1 = time.time()\n",
    "x, iIter, residual = algo.solve()\n",
    "finish_1 = time.time() - start_1\n",
    "\n",
    "\n",
    "print(x[1:10])\n",
    "print(iIter)\n",
    "print(residual)\n",
    "print(finish_1)"
   ]
  },
  {
   "cell_type": "markdown",
   "metadata": {},
   "source": [
    "### GMRES Method"
   ]
  },
  {
   "cell_type": "code",
   "execution_count": null,
   "metadata": {},
   "outputs": [],
   "source": [
    "#%nbdev_export\n",
    "class GMRES(BaseLinearSolver):\n",
    "    def __init__(self, A, b, xo, tol=1e-10, maxIter=10000, m=100, reorthog=0):\n",
    "        BaseLinearSolver.__init__(self, A, b, xo, tol, maxIter)\n",
    "        self.m = m\n",
    "        self.reorthog = reorthog\n",
    "        \n",
    "    def solve(self):\n",
    "        iIter = 1\n",
    "        mm = self.m\n",
    "        while iIter<=self.maxIter:\n",
    "            r        = self.b - torch.matmul(self.A,self.xo)\n",
    "            Q, H, m  = arnoldi(self.A,r,self.m,self.reorthog)\n",
    "            beta     = torch.norm(r)\n",
    "            e1       = torch.zeros(m+1,1, dtype=torch.float64, device=self.device)\n",
    "            e1[0]    = 1\n",
    "            y,_      = torch.lstsq(beta*e1, H.to(self.device))\n",
    "            x        = self.xo + Q.to(self.device)@y\n",
    "            residual = torch.norm(self.b - torch.matmul(self.A,x))\n",
    "\n",
    "            if residual < self.tol:\n",
    "                return x.cpu().numpy(), iIter, residual.cpu().item()\n",
    "            \n",
    "            self.xo = x\n",
    "            iIter = iIter + 1\n",
    "            self.m = mm\n",
    "        return x.cpu().numpy(), iIter, residual.cpu().item()    "
   ]
  },
  {
   "cell_type": "code",
   "execution_count": null,
   "metadata": {},
   "outputs": [],
   "source": [
    "algo = GMRES(A,b,xo)"
   ]
  },
  {
   "cell_type": "code",
   "execution_count": null,
   "metadata": {},
   "outputs": [
    {
     "name": "stdout",
     "output_type": "stream",
     "text": [
      "[[ 9.0119e+01]\n",
      " [ 3.8219e+02]\n",
      " [ 1.0397e+03]\n",
      " [ 1.5116e+00]\n",
      " [-1.3236e+01]\n",
      " [ 5.6058e-01]\n",
      " [-4.0081e+02]\n",
      " [ 1.1652e+03]\n",
      " [-1.5533e+02]]\n",
      "1\n",
      "1.9711627992040185e-13\n",
      "0.7651643753051758\n"
     ]
    }
   ],
   "source": [
    "start_1 = time.time()\n",
    "x, iIter, residual = algo.solve()\n",
    "finish_1 = time.time() - start_1\n",
    "\n",
    "\n",
    "print(x[1:10])\n",
    "print(iIter)\n",
    "print(residual)\n",
    "print(finish_1)"
   ]
  },
  {
   "cell_type": "markdown",
   "metadata": {},
   "source": [
    "### Preconditioned GMRES Method"
   ]
  },
  {
   "cell_type": "code",
   "execution_count": null,
   "metadata": {},
   "outputs": [],
   "source": [
    "#%nbdev_export\n",
    "class preGMRES(BaseLinearSolver):\n",
    "    def __init__(self, A, b, xo, tol=1e-10, maxIter=10000, m=100, reorthog=0):\n",
    "        BaseLinearSolver.__init__(self, A, b, xo, tol, maxIter)\n",
    "        self.m = m\n",
    "        self.reorthog = reorthog\n",
    "        \n",
    "    def solve(self):\n",
    "        LU, pivots = self.A.lu()\n",
    "        _,L,U = torch.lu_unpack(LU, pivots)\n",
    "        \n",
    "        b_bar,_ = torch.solve(self.b,L)\n",
    "        b_bar   = b_bar.cpu().numpy()\n",
    "        A_bar,_ = torch.solve(self.A@torch.inverse(U),L)\n",
    "        A_bar   = scipy.sparse.csr_matrix(A_bar.cpu().numpy())\n",
    "        xo      = self.xo.cpu().numpy()\n",
    "        \n",
    "        algo = GMRES(A_bar,b_bar,xo, self.tol, self.maxIter, self.m, self.reorthog)\n",
    "        x_bar, iIter, _ = algo.solve()\n",
    "        \n",
    "        x = (torch.inverse(U.cpu())@x_bar).to(self.device)\n",
    "        residual = torch.norm(self.b - torch.matmul(self.A,x))\n",
    "        \n",
    "        return x.cpu().numpy(), iIter, residual.cpu().item()"
   ]
  },
  {
   "cell_type": "code",
   "execution_count": null,
   "metadata": {},
   "outputs": [],
   "source": [
    "algo = preGMRES(A,b,xo)"
   ]
  },
  {
   "cell_type": "code",
   "execution_count": null,
   "metadata": {},
   "outputs": [
    {
     "name": "stdout",
     "output_type": "stream",
     "text": [
      "[[ 9.0119e+01]\n",
      " [ 3.8219e+02]\n",
      " [ 1.0397e+03]\n",
      " [ 1.5116e+00]\n",
      " [-1.3236e+01]\n",
      " [ 5.6058e-01]\n",
      " [-4.0081e+02]\n",
      " [ 1.1652e+03]\n",
      " [-1.5533e+02]]\n",
      "1\n",
      "4.359860676520736e-13\n",
      "0.13197016716003418\n"
     ]
    }
   ],
   "source": [
    "start_1 = time.time()\n",
    "x, iIter, residual = algo.solve()\n",
    "finish_1 = time.time() - start_1\n",
    "\n",
    "\n",
    "print(x[1:10])\n",
    "print(iIter)\n",
    "print(residual)\n",
    "print(finish_1)"
   ]
  },
  {
   "cell_type": "markdown",
   "metadata": {},
   "source": [
    "## Iterative Non Linear Solvers"
   ]
  },
  {
   "cell_type": "markdown",
   "metadata": {},
   "source": [
    "### Newton-Raphson Method"
   ]
  },
  {
   "cell_type": "code",
   "execution_count": null,
   "metadata": {},
   "outputs": [],
   "source": [
    "#%nbdev_export\n",
    "class NRM:\n",
    "    pass"
   ]
  },
  {
   "cell_type": "markdown",
   "metadata": {},
   "source": [
    "### Modified Newton-Raphson Method"
   ]
  },
  {
   "cell_type": "code",
   "execution_count": null,
   "metadata": {},
   "outputs": [],
   "source": [
    "#%nbdev_export\n",
    "class MNRM:\n",
    "    pass"
   ]
  },
  {
   "cell_type": "code",
   "execution_count": null,
   "metadata": {},
   "outputs": [],
   "source": []
  },
  {
   "cell_type": "code",
   "execution_count": null,
   "metadata": {},
   "outputs": [],
   "source": [
    "%nbdev_hide\n",
    "notebook2script()"
   ]
  }
 ],
 "metadata": {
  "kernelspec": {
   "display_name": "Python 3",
   "language": "python",
   "name": "python3"
  }
 },
 "nbformat": 4,
 "nbformat_minor": 4
}
