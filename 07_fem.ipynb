{
 "cells": [
  {
   "cell_type": "code",
   "execution_count": null,
   "metadata": {},
   "outputs": [
    {
     "name": "stdout",
     "output_type": "stream",
     "text": [
      "The autoreload extension is already loaded. To reload it, use:\n",
      "  %reload_ext autoreload\n"
     ]
    }
   ],
   "source": [
    "%load_ext autoreload\n",
    "%autoreload 2"
   ]
  },
  {
   "cell_type": "code",
   "execution_count": null,
   "metadata": {},
   "outputs": [
    {
     "name": "stdout",
     "output_type": "stream",
     "text": [
      "Cells will be exported to geomechy.fem,\n",
      "unless a different module is specified after an export flag: `%nbdev_export special.module`\n"
     ]
    }
   ],
   "source": [
    "from nbdev import *\n",
    "%nbdev_default_export fem\n",
    "%nbdev_default_class_level 3"
   ]
  },
  {
   "cell_type": "code",
   "execution_count": null,
   "metadata": {},
   "outputs": [],
   "source": [
    "%nbdev_export\n",
    "import numpy as np\n",
    "from geomechy.base import ItemDict\n",
    "from geomechy.io import jsonReader\n",
    "from geomechy.utils import *"
   ]
  },
  {
   "cell_type": "markdown",
   "metadata": {},
   "source": [
    "# FEM\n",
    "> fem routines"
   ]
  },
  {
   "cell_type": "markdown",
   "metadata": {},
   "source": [
    "## Boundary Conditions"
   ]
  },
  {
   "cell_type": "markdown",
   "metadata": {},
   "source": [
    "### Boundary Conditions Field Problems"
   ]
  },
  {
   "cell_type": "code",
   "execution_count": null,
   "metadata": {},
   "outputs": [],
   "source": [
    "%nbdev_export\n",
    "class bcField(ItemDict):\n",
    "    def readFromDict(self, data):\n",
    "        self.nodes = [node[0] for node in data[\"Nodes\"][\"coords\"]]\n",
    "        self.nodeGroups = data[\"Groups\"][\"NodeGroups\"]\n",
    "        \n",
    "        for name, bc in self.nodeGroups.items():\n",
    "            self.add(name, bc)\n",
    "    \n",
    "    def getVectors(self):\n",
    "        p, fext = self.getDirichlet(), self.getNeumann()\n",
    "        return p, fext\n",
    "    \n",
    "    def getDirichlet(self):\n",
    "        p_vector = -1*np.ones((len(self.nodes),1))\n",
    "        for name, bc in self.nodeGroups.items():\n",
    "            if bc[\"type\"] == \"Dirichlet\":\n",
    "                p_vector[list(map(lambda x: x-1,bc[\"nodes\"]))] = bc[\"p\"][\"value\"]*eval(bc[\"p\"][\"dim\"]) \n",
    "        return p_vector\n",
    "    \n",
    "    def getNeumann(self):\n",
    "        q_vector = -1*np.ones((len(self.nodes),1))\n",
    "        for name, bc in self.nodeGroups.items():\n",
    "            if bc[\"type\"] == \"Neumann\":\n",
    "                q_vector[list(map(lambda x: x-1,bc[\"nodes\"]))] = bc[\"q\"][\"value\"]*eval(bc[\"q\"][\"dim\"]) \n",
    "        return q_vector\n",
    "    \n",
    "    def getBcData(self, bcId):\n",
    "        return self.get(bcId)"
   ]
  },
  {
   "cell_type": "code",
   "execution_count": null,
   "metadata": {},
   "outputs": [
    {
     "name": "stdout",
     "output_type": "stream",
     "text": [
      "[[100.]\n",
      " [ -1.]\n",
      " [ -1.]\n",
      " [100.]\n",
      " [  0.]\n",
      " [  0.]] [[-1.]\n",
      " [ 0.]\n",
      " [ 0.]\n",
      " [-1.]\n",
      " [-1.]\n",
      " [-1.]]\n"
     ]
    }
   ],
   "source": [
    "jsonFile = \"./assets/json/template.json\"\n",
    "data = jsonReader(jsonFile)\n",
    "data[\"Groups\"][\"NodeGroups\"]\n",
    "bc = bcField()\n",
    "bc.readFromDict(data)\n",
    "bc.nodeGroups\n",
    "p, q = bc.getVectors()\n",
    "print(p, q)"
   ]
  },
  {
   "cell_type": "code",
   "execution_count": null,
   "metadata": {},
   "outputs": [
    {
     "name": "stdout",
     "output_type": "stream",
     "text": [
      "Converted 00_core.ipynb.\n",
      "Converted 01_physics.ipynb.\n",
      "Converted 02_constitutive.ipynb.\n",
      "Converted 03_shape.ipynb.\n",
      "Converted 04_io.ipynb.\n",
      "Converted 05_Solvers.ipynb.\n",
      "Converted 06_materials.ipynb.\n",
      "Converted 07_fem.ipynb.\n",
      "Converted 08_Modules.ipynb.\n",
      "Converted 09_base.ipynb.\n",
      "Converted 10_utils.ipynb.\n",
      "Converted index.ipynb.\n",
      "Converted test.ipynb.\n"
     ]
    }
   ],
   "source": [
    "%nbdev_hide\n",
    "notebook2script()"
   ]
  },
  {
   "cell_type": "code",
   "execution_count": null,
   "metadata": {},
   "outputs": [],
   "source": []
  }
 ],
 "metadata": {
  "kernelspec": {
   "display_name": "Python 3",
   "language": "python",
   "name": "python3"
  }
 },
 "nbformat": 4,
 "nbformat_minor": 4
}
