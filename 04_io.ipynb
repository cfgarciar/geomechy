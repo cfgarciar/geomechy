{
 "cells": [
  {
   "cell_type": "code",
   "execution_count": null,
   "metadata": {},
   "outputs": [],
   "source": [
    "%load_ext autoreload\n",
    "%autoreload 2"
   ]
  },
  {
   "cell_type": "code",
   "execution_count": null,
   "metadata": {},
   "outputs": [
    {
     "name": "stdout",
     "output_type": "stream",
     "text": [
      "Cells will be exported to geomechy.io,\n",
      "unless a different module is specified after an export flag: `%nbdev_export special.module`\n"
     ]
    }
   ],
   "source": [
    "from nbdev import *\n",
    "%nbdev_default_export io\n",
    "%nbdev_default_class_level 3"
   ]
  },
  {
   "cell_type": "code",
   "execution_count": null,
   "metadata": {},
   "outputs": [],
   "source": [
    "%nbdev_export\n",
    "import json \n",
    "import numpy as np\n",
    "from geomechy.utils import units"
   ]
  },
  {
   "cell_type": "markdown",
   "metadata": {},
   "source": [
    "# IO\n",
    "> io routines"
   ]
  },
  {
   "cell_type": "markdown",
   "metadata": {},
   "source": [
    "## Json Reader"
   ]
  },
  {
   "cell_type": "code",
   "execution_count": null,
   "metadata": {},
   "outputs": [],
   "source": [
    "%nbdev_export\n",
    "def jsonReader(jsonFile):\n",
    "    try:\n",
    "        with open(jsonFile) as f:\n",
    "            data = json.load(f)\n",
    "        \n",
    "        #  Dict keys check ---------------------------------------------\n",
    "        assert list(data.keys()) == ['Nodes', 'Elements', 'Groups', 'Materials', 'Physics', \n",
    "                                     'Constitutive', 'FEM', 'Solver', 'Modules', 'Writers']\n",
    "        \n",
    "        #  Nodes Check ------------------------------------------------\n",
    "        assert list(data[\"Nodes\"].keys()) in [['dim', 'coords']]\n",
    "        assert np.array(data[\"Nodes\"][\"coords\"]).shape[0]>1\n",
    "        assert np.array(data[\"Nodes\"][\"coords\"]).shape[1]>=1\n",
    "        assert data[\"Nodes\"][\"dim\"] in units[\"distance\"]\n",
    "        \n",
    "        # Elements Check ----------------------------------------------\n",
    "        \n",
    "        return data\n",
    "    except:\n",
    "        print(\"json invalid structure\")\n"
   ]
  },
  {
   "cell_type": "code",
   "execution_count": null,
   "metadata": {},
   "outputs": [
    {
     "data": {
      "text/plain": [
       "dict_keys(['Nodes', 'Elements', 'Groups', 'Materials', 'Physics', 'Constitutive', 'FEM', 'Solver', 'Modules', 'Writers'])"
      ]
     },
     "execution_count": null,
     "metadata": {},
     "output_type": "execute_result"
    }
   ],
   "source": [
    "#jsonFile = \"./assets/json/dummy.json\"\n",
    "jsonFile = \"./assets/json/template.json\"\n",
    "json_dict = jsonReader(jsonFile)\n",
    "json_dict.keys()"
   ]
  },
  {
   "cell_type": "markdown",
   "metadata": {},
   "source": [
    "## Abaqus Reader"
   ]
  },
  {
   "cell_type": "code",
   "execution_count": null,
   "metadata": {},
   "outputs": [],
   "source": [
    "#%nbdev_export\n",
    "def abaqusReader(jsonFile):\n",
    "    pass"
   ]
  },
  {
   "cell_type": "code",
   "execution_count": null,
   "metadata": {},
   "outputs": [],
   "source": []
  },
  {
   "cell_type": "code",
   "execution_count": null,
   "metadata": {},
   "outputs": [
    {
     "name": "stdout",
     "output_type": "stream",
     "text": [
      "Converted 00_core.ipynb.\n",
      "Converted 01_physics.ipynb.\n",
      "Converted 02_constitutive.ipynb.\n",
      "Converted 03_shape.ipynb.\n",
      "Converted 04_io.ipynb.\n",
      "Converted 06_materials.ipynb.\n",
      "Converted 08_Modules.ipynb.\n",
      "Converted 09_base.ipynb.\n",
      "Converted 10_utils.ipynb.\n",
      "Converted index.ipynb.\n",
      "Converted test.ipynb.\n"
     ]
    }
   ],
   "source": [
    "%nbdev_hide\n",
    "notebook2script()"
   ]
  },
  {
   "cell_type": "code",
   "execution_count": null,
   "metadata": {},
   "outputs": [],
   "source": []
  }
 ],
 "metadata": {
  "kernelspec": {
   "display_name": "Python 3",
   "language": "python",
   "name": "python3"
  }
 },
 "nbformat": 4,
 "nbformat_minor": 4
}
