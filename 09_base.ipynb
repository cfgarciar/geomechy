{
 "cells": [
  {
   "cell_type": "code",
   "execution_count": null,
   "metadata": {},
   "outputs": [],
   "source": [
    "%load_ext autoreload\n",
    "%autoreload 2"
   ]
  },
  {
   "cell_type": "code",
   "execution_count": null,
   "metadata": {},
   "outputs": [
    {
     "name": "stdout",
     "output_type": "stream",
     "text": [
      "Cells will be exported to geomechy.base,\n",
      "unless a different module is specified after an export flag: `%nbdev_export special.module`\n"
     ]
    }
   ],
   "source": [
    "from nbdev import *\n",
    "%nbdev_default_export base\n",
    "%nbdev_default_class_level 3"
   ]
  },
  {
   "cell_type": "code",
   "execution_count": null,
   "metadata": {},
   "outputs": [],
   "source": [
    "%nbdev_export\n",
    "import pandas as pd"
   ]
  },
  {
   "cell_type": "markdown",
   "metadata": {},
   "source": [
    "# Base\n",
    "> all the base classes"
   ]
  },
  {
   "cell_type": "markdown",
   "metadata": {},
   "source": [
    "## Base Dict"
   ]
  },
  {
   "cell_type": "code",
   "execution_count": null,
   "metadata": {},
   "outputs": [],
   "source": [
    "%nbdev_export\n",
    "class ItemDict(dict):\n",
    "    \n",
    "    def add(self, Id, item):\n",
    "        self[Id] = item\n",
    "        \n",
    "    def get(self, Ids):\n",
    "        return (self[Ids] if isinstance(Ids,int) else [self[Id] for Id in Ids] \n",
    "                if isinstance(Ids,list) else \"NAN\")\n",
    "\n",
    "    def getId(self, Ids):\n",
    "        return (list(self.keys())[Ids] if isinstance(Ids,int) else [list(self.keys())[Id] for Id in Ids] \n",
    "                if isinstance(Ids,list) else \"NaN\" )"
   ]
  },
  {
   "cell_type": "markdown",
   "metadata": {},
   "source": [
    "## Base Properties"
   ]
  },
  {
   "cell_type": "code",
   "execution_count": null,
   "metadata": {},
   "outputs": [],
   "source": [
    "%nbdev_export\n",
    "class Properties:\n",
    "    \n",
    "    def __init__ (self, props={}):\n",
    "\n",
    "        for key in props.keys():\n",
    "            setattr(self, key, props[key])\n",
    "    \n",
    "    def __str__ (self):\n",
    "        att_prop  = ''\n",
    "        \n",
    "        for att in dir(self):\n",
    "            if att.startswith('__') or att.startswith('store'):\n",
    "                continue\n",
    "                \n",
    "            att_prop += 'Attribute: ' + att + '\\n'\n",
    "            att_prop += str(getattr(self,att)) + '\\n'\n",
    "\n",
    "        return att_prop\n",
    "    \n",
    "    def __iter__ ( self ):\n",
    "        propsList = []\n",
    "        \n",
    "        for att in dir(self):\n",
    "            if att.startswith('__') or att.startswith('store'):\n",
    "                continue\n",
    "            propsList.append((att, getattr(self,att)))\n",
    "\n",
    "        return iter(propsList)\n",
    "    \n",
    "    def store (self, key, val):\n",
    "        setattr(self, key, val)"
   ]
  },
  {
   "cell_type": "markdown",
   "metadata": {},
   "source": [
    "## Base Element"
   ]
  },
  {
   "cell_type": "code",
   "execution_count": null,
   "metadata": {},
   "outputs": [],
   "source": [
    "%nbdev_export\n",
    "class BaseElement(list):\n",
    "    \n",
    "    dofTypes = []\n",
    "    \n",
    "    def __init__ (self, nodes, props):\n",
    "        list.__init__(self, nodes)\n",
    "        self.history = {}\n",
    "        self.current = {}\n",
    "\n",
    "        for name,val in props:\n",
    "            if name is \"material\":\n",
    "                self.matProps = val\n",
    "                self.mat = MaterialManager(self.matProps)\n",
    "            else:\n",
    "                setattr(self, name, val)\n",
    "                \n",
    "    def dofCount(self):\n",
    "        return len(self)*len(self.dofTypes)\n",
    "    \n",
    "    def getNodes(self):\n",
    "        return self\n",
    "    \n",
    "    def getType (self):\n",
    "        return self.elemType\n",
    "    \n",
    "    def setHistoryParameter(self, name, val):\n",
    "        self.current[name] = val\n",
    "        \n",
    "    def getHistoryParameter(self, name):\n",
    "        return self.history[name]\n",
    "    \n",
    "    def commitHistory(self):\n",
    "        self.history = self.current.copy()\n",
    "        self.current = {}\n",
    "        \n",
    "        if hasattr(self, \"mat\"):\n",
    "            self.mat.commitHistory()"
   ]
  },
  {
   "cell_type": "markdown",
   "metadata": {},
   "source": [
    "## Base Constitutive"
   ]
  },
  {
   "cell_type": "code",
   "execution_count": null,
   "metadata": {},
   "outputs": [],
   "source": [
    "%nbdev_export\n",
    "class BaseConstitutive:\n",
    "    \n",
    "    def __init__(self, props):\n",
    "        for name,val in props.items():\n",
    "            setattr(self, name, val)\n",
    "\n",
    "        self.history = pd.DataFrame({\"i\":[0], \"d_epsilon\":[0]})\n",
    "        self.current = {\"i\":0, \"d_epsilon\":0}\n",
    "        self.iIter   = -1\n",
    "\n",
    "    def setIter(self, iIter):\n",
    "        self.iIter = iIter\n",
    "\n",
    "    def setHistoryParameter(self, name, val):\n",
    "        if self.iIter == -1:\n",
    "            self.history[name]=val\n",
    "            self.current[name]=val\n",
    "            return\n",
    "\n",
    "    def getHistoryParameter(self, name, k):\n",
    "        return self.history.loc[k,name]\n",
    "    \n",
    "    def setCurrentParameter(self, name, val):\n",
    "        self.current[name]=val\n",
    "        \n",
    "    def getCurrentParameter(self, name):\n",
    "        return self.current[name]\n",
    "    \n",
    "    def commitHistory(self):\n",
    "        self.setIter(0)\n",
    "        self.history = self.history.append(self.current, ignore_index=True)\n",
    "        for key, val in self.current.items():\n",
    "            self.current[key] = 0.\n",
    "        "
   ]
  },
  {
   "cell_type": "code",
   "execution_count": null,
   "metadata": {},
   "outputs": [
    {
     "data": {
      "text/html": [
       "<div>\n",
       "<style scoped>\n",
       "    .dataframe tbody tr th:only-of-type {\n",
       "        vertical-align: middle;\n",
       "    }\n",
       "\n",
       "    .dataframe tbody tr th {\n",
       "        vertical-align: top;\n",
       "    }\n",
       "\n",
       "    .dataframe thead th {\n",
       "        text-align: right;\n",
       "    }\n",
       "</style>\n",
       "<table border=\"1\" class=\"dataframe\">\n",
       "  <thead>\n",
       "    <tr style=\"text-align: right;\">\n",
       "      <th></th>\n",
       "      <th>k</th>\n",
       "      <th>d_epsilon</th>\n",
       "      <th>p</th>\n",
       "    </tr>\n",
       "  </thead>\n",
       "  <tbody>\n",
       "    <tr>\n",
       "      <th>0</th>\n",
       "      <td>0</td>\n",
       "      <td>0</td>\n",
       "      <td>0</td>\n",
       "    </tr>\n",
       "    <tr>\n",
       "      <th>1</th>\n",
       "      <td>0</td>\n",
       "      <td>0</td>\n",
       "      <td>0</td>\n",
       "    </tr>\n",
       "  </tbody>\n",
       "</table>\n",
       "</div>"
      ],
      "text/plain": [
       "   k  d_epsilon  p\n",
       "0  0          0  0\n",
       "1  0          0  0"
      ]
     },
     "execution_count": null,
     "metadata": {},
     "output_type": "execute_result"
    }
   ],
   "source": [
    "elastic = BaseConstitutive({\"E\":500, \"nu\":0.3})\n",
    "elastic.setHistoryParameter(\"p\",0)\n",
    "elastic.getCurrentParameter(\"p\")\n",
    "elastic.commitHistory()\n",
    "elastic.history"
   ]
  },
  {
   "cell_type": "code",
   "execution_count": null,
   "metadata": {},
   "outputs": [
    {
     "name": "stdout",
     "output_type": "stream",
     "text": [
      "Converted 00_core.ipynb.\n",
      "Converted 01_physics.ipynb.\n",
      "Converted 02_constitutive.ipynb.\n",
      "Converted 03_shape.ipynb.\n",
      "Converted 04_io.ipynb.\n",
      "Converted 06_materials.ipynb.\n",
      "Converted 08_Modules.ipynb.\n",
      "Converted 09_base.ipynb.\n",
      "Converted 10_utils.ipynb.\n",
      "Converted index.ipynb.\n",
      "Converted test.ipynb.\n"
     ]
    }
   ],
   "source": [
    "%nbdev_hide\n",
    "notebook2script()"
   ]
  },
  {
   "cell_type": "code",
   "execution_count": null,
   "metadata": {},
   "outputs": [],
   "source": []
  },
  {
   "cell_type": "code",
   "execution_count": null,
   "metadata": {},
   "outputs": [],
   "source": []
  }
 ],
 "metadata": {
  "kernelspec": {
   "display_name": "Python 3",
   "language": "python",
   "name": "python3"
  }
 },
 "nbformat": 4,
 "nbformat_minor": 4
}
