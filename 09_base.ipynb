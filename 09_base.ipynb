{
 "cells": [
  {
   "cell_type": "code",
   "execution_count": null,
   "metadata": {},
   "outputs": [
    {
     "name": "stdout",
     "output_type": "stream",
     "text": [
      "The autoreload extension is already loaded. To reload it, use:\n",
      "  %reload_ext autoreload\n"
     ]
    }
   ],
   "source": [
    "%load_ext autoreload\n",
    "%autoreload 2"
   ]
  },
  {
   "cell_type": "code",
   "execution_count": null,
   "metadata": {},
   "outputs": [
    {
     "name": "stdout",
     "output_type": "stream",
     "text": [
      "Cells will be exported to geomechy.base,\n",
      "unless a different module is specified after an export flag: `%nbdev_export special.module`\n"
     ]
    }
   ],
   "source": [
    "from nbdev import *\n",
    "%nbdev_default_export base\n",
    "%nbdev_default_class_level 3"
   ]
  },
  {
   "cell_type": "code",
   "execution_count": null,
   "metadata": {},
   "outputs": [
    {
     "name": "stdout",
     "output_type": "stream",
     "text": [
      "ok\n"
     ]
    }
   ],
   "source": [
    "%nbdev_export\n",
    "from geomechy.core import MaterialManager"
   ]
  },
  {
   "cell_type": "markdown",
   "metadata": {},
   "source": [
    "# Base\n",
    "> all the base classes"
   ]
  },
  {
   "cell_type": "markdown",
   "metadata": {},
   "source": [
    "## Base Properties"
   ]
  },
  {
   "cell_type": "code",
   "execution_count": null,
   "metadata": {},
   "outputs": [],
   "source": [
    "%nbdev_export\n",
    "class Properties:\n",
    "    \n",
    "    def __init__ (self, props={}):\n",
    "\n",
    "        for key in props.keys():\n",
    "            setattr(self, key, props[key])\n",
    "    \n",
    "    def __str__ (self):\n",
    "        att_prop  = ''\n",
    "        \n",
    "        for att in dir(self):\n",
    "            if att.startswith('__') or att.startswith('store'):\n",
    "                continue\n",
    "                \n",
    "            att_prop += 'Attribute: ' + att + '\\n'\n",
    "            att_prop += str(getattr(self,att)) + '\\n'\n",
    "\n",
    "        return att_prop\n",
    "    \n",
    "    def __iter__ ( self ):\n",
    "        propsList = []\n",
    "        \n",
    "        for att in dir(self):\n",
    "            if att.startswith('__') or att.startswith('store'):\n",
    "                continue\n",
    "            propsList.append((att, getattr(self,att)))\n",
    "\n",
    "        return iter(propsList)\n",
    "    \n",
    "    def store (self, key, val):\n",
    "        setattr(self, key, val)"
   ]
  },
  {
   "cell_type": "markdown",
   "metadata": {},
   "source": [
    "## Base Material"
   ]
  },
  {
   "cell_type": "code",
   "execution_count": null,
   "metadata": {},
   "outputs": [],
   "source": [
    "%nbdev_export\n",
    "class BaseMaterial:\n",
    "    \n",
    "    def __init__(self, props):\n",
    "        for name,val in props:\n",
    "            setattr(self, name, val)\n",
    "\n",
    "        self.initHistory={}\n",
    "        self.current = []\n",
    "        self.iIter = -1\n",
    "\n",
    "    def setIter(self, iIter):\n",
    "        self.iIter = iIter\n",
    "\n",
    "    def setHistoryParameter(self, name, val):\n",
    "        if self.iIter == -1:\n",
    "            self.initHistory[name]=val\n",
    "            return\n",
    "\n",
    "        if len(self.current) == self.iIter:\n",
    "            self.current.append(self.initHistory.copy())\n",
    "\n",
    "        self.current[self.iIter][name] = val\n",
    "        return \n",
    "\n",
    "    def getHistoryParameter(self, name):\n",
    "        if len(self.history) == 0:\n",
    "            return self.initHistory[name]\n",
    "        else:\n",
    "            return self.history[self.iIter][name]\n",
    "    \n",
    "    def commitHistory(self):\n",
    "        self.history = []\n",
    "        for h in self.current:\n",
    "            self.history.append(h)"
   ]
  },
  {
   "cell_type": "markdown",
   "metadata": {},
   "source": [
    "## Base Element"
   ]
  },
  {
   "cell_type": "code",
   "execution_count": null,
   "metadata": {},
   "outputs": [
    {
     "name": "stdout",
     "output_type": "stream",
     "text": [
      "ok\n"
     ]
    }
   ],
   "source": [
    "%nbdev_export\n",
    "class BaseElement(list):\n",
    "    \n",
    "    dofTypes = []\n",
    "    \n",
    "    def __init__ (self, nodes, props):\n",
    "        list.__init__(self, nodes)\n",
    "        self.history = {}\n",
    "        self.current = {}\n",
    "\n",
    "        for name,val in props:\n",
    "            if name is \"material\":\n",
    "                self.matProps = val\n",
    "                self.mat = MaterialManager(self.matProps)\n",
    "            else:\n",
    "                setattr(self, name, val)\n",
    "                \n",
    "    def dofCount(self):\n",
    "        return len(self)*len(self.dofTypes)\n",
    "    \n",
    "    def getNodes(self):\n",
    "        return self\n",
    "    \n",
    "    def getType (self):\n",
    "        return self.elemType\n",
    "    \n",
    "    def setHistoryParameter(self, name, val):\n",
    "        self.current[name] = val\n",
    "        \n",
    "    def getHistoryParameter(self, name):\n",
    "        return self.history[name]\n",
    "    \n",
    "    def commitHistory(self):\n",
    "        self.history = self.current.copy()\n",
    "        self.current = {}\n",
    "        \n",
    "        if hasattr(self, \"mat\"):\n",
    "            self.mat.commitHistory()"
   ]
  },
  {
   "cell_type": "markdown",
   "metadata": {},
   "source": [
    "## Base Dict"
   ]
  },
  {
   "cell_type": "code",
   "execution_count": null,
   "metadata": {},
   "outputs": [],
   "source": [
    "%nbdev_export\n",
    "class ItemDict(dict):\n",
    "    \n",
    "    def add (self, Id, item):\n",
    "        self[Id] = item\n",
    "        \n",
    "    def get(self, Ids):\n",
    "        return (self[Ids] if isinstance(Ids,int) else [self[Id] for Id in Ids] \n",
    "                if isinstance(Ids,list) else \"NAN\")\n",
    "\n",
    "    def getId(self, Ids):\n",
    "        return (list(self.keys())[Ids] if isinstance(Ids,int) else [list(self.keys())[Id] for Id in Ids] \n",
    "                if isinstance(Ids,list) else \"NaN\" )"
   ]
  },
  {
   "cell_type": "code",
   "execution_count": null,
   "metadata": {},
   "outputs": [
    {
     "name": "stdout",
     "output_type": "stream",
     "text": [
      "Converted 00_core.ipynb.\n",
      "Converted 01_physics.ipynb.\n",
      "Converted 02_materials.ipynb.\n",
      "Converted 09_base.ipynb.\n",
      "Converted 10_utils.ipynb.\n",
      "Converted index.ipynb.\n"
     ]
    }
   ],
   "source": [
    "%nbdev_hide\n",
    "notebook2script()"
   ]
  },
  {
   "cell_type": "code",
   "execution_count": null,
   "metadata": {},
   "outputs": [],
   "source": []
  }
 ],
 "metadata": {
  "kernelspec": {
   "display_name": "Python 3",
   "language": "python",
   "name": "python3"
  }
 },
 "nbformat": 4,
 "nbformat_minor": 4
}
