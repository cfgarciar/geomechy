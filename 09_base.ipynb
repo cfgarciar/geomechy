{
 "cells": [
  {
   "cell_type": "code",
   "execution_count": null,
   "metadata": {},
   "outputs": [],
   "source": [
    "%load_ext autoreload\n",
    "%autoreload 2"
   ]
  },
  {
   "cell_type": "code",
   "execution_count": null,
   "metadata": {},
   "outputs": [
    {
     "name": "stdout",
     "output_type": "stream",
     "text": [
      "Cells will be exported to geomechy.base,\n",
      "unless a different module is specified after an export flag: `%nbdev_export special.module`\n"
     ]
    }
   ],
   "source": [
    "from nbdev import *\n",
    "%nbdev_default_export base\n",
    "%nbdev_default_class_level 3"
   ]
  },
  {
   "cell_type": "code",
   "execution_count": null,
   "metadata": {},
   "outputs": [],
   "source": [
    "%nbdev_export\n",
    "import pandas as pd\n",
    "import numpy as np\n",
    "import scipy\n",
    "import torch\n",
    "\n",
    "from geomechy.utils import *\n",
    "from geomechy.shape import getElemetType"
   ]
  },
  {
   "cell_type": "markdown",
   "metadata": {},
   "source": [
    "# Base\n",
    "> all the base classes"
   ]
  },
  {
   "cell_type": "markdown",
   "metadata": {},
   "source": [
    "## Base Dict"
   ]
  },
  {
   "cell_type": "code",
   "execution_count": null,
   "metadata": {},
   "outputs": [],
   "source": [
    "%nbdev_export\n",
    "class ItemDict(dict):\n",
    "    \n",
    "    def add(self, Id, item):\n",
    "        assert isinstance(Id,int)\n",
    "        self[Id] = item\n",
    "        \n",
    "    def get(self, Ids):\n",
    "        return (self[Ids] if isinstance(Ids,int) else [self[Id] for Id in Ids] \n",
    "                if isinstance(Ids,list) else \"NAN\")\n",
    "\n",
    "    def getData(self, Ids):\n",
    "        return {Id:self[Id] for Id in Ids}"
   ]
  },
  {
   "cell_type": "markdown",
   "metadata": {},
   "source": [
    "## Base Properties"
   ]
  },
  {
   "cell_type": "code",
   "execution_count": null,
   "metadata": {},
   "outputs": [],
   "source": [
    "%nbdev_export\n",
    "class Properties:\n",
    "    \n",
    "    def __init__ (self, props={}):\n",
    "\n",
    "        for key in props.keys():\n",
    "            setattr(self, key, props[key])\n",
    "    \n",
    "    def __str__ (self):\n",
    "        att_prop  = ''\n",
    "        \n",
    "        for att in dir(self):\n",
    "            if att.startswith('__') or att.startswith('store'):\n",
    "                continue\n",
    "                \n",
    "            att_prop += 'Attribute: ' + att + '\\n'\n",
    "            att_prop += str(getattr(self,att)) + '\\n'\n",
    "\n",
    "        return att_prop\n",
    "    \n",
    "    def __iter__ ( self ):\n",
    "        propsList = []\n",
    "        \n",
    "        for att in dir(self):\n",
    "            if att.startswith('__') or att.startswith('store'):\n",
    "                continue\n",
    "            propsList.append((att, getattr(self,att)))\n",
    "\n",
    "        return iter(propsList)\n",
    "    \n",
    "    def store (self, key, val):\n",
    "        setattr(self, key, val)"
   ]
  },
  {
   "cell_type": "markdown",
   "metadata": {},
   "source": [
    "## Base Constitutive"
   ]
  },
  {
   "cell_type": "code",
   "execution_count": null,
   "metadata": {},
   "outputs": [],
   "source": [
    "%nbdev_export\n",
    "class BaseConstitutive:\n",
    "    \n",
    "    def __init__(self, params):\n",
    "        for name,val in params.items():\n",
    "            dim = eval(val[\"dim\"])\n",
    "            value = val[\"value\"]\n",
    "            setattr(self, name, value*dim)\n",
    "\n",
    "        self.current = {\"i\":0}\n",
    "        self.iIter   = -1\n",
    "     \n",
    "    def __str__ (self):\n",
    "        return f'current iter: {self.iIter}'\n",
    "\n",
    "    def setCurrentParameter(self, name, val):\n",
    "        self.current[name]=val\n",
    "        \n",
    "    def getCurrentParameter(self, name):\n",
    "        return self.current[name]\n",
    "    \n",
    "    def setIter(self, iIter):\n",
    "        self.iIter = iIter\n",
    "        \n",
    "    def commitHistory(self):\n",
    "        if self.iIter == -1: \n",
    "            self.history = pd.DataFrame(self.current, index=[0])\n",
    "        else:\n",
    "            self.history = self.history.append(self.current, ignore_index=True)\n",
    "        \n",
    "        self.setIter(0)\n",
    "        for key, val in self.current.items():\n",
    "            self.current[key] = 0.\n",
    "\n",
    "    def getHistoryParameter(self, name, k):\n",
    "        return self.history.loc[k,name]"
   ]
  },
  {
   "cell_type": "markdown",
   "metadata": {},
   "source": [
    "## Base Element"
   ]
  },
  {
   "cell_type": "code",
   "execution_count": null,
   "metadata": {},
   "outputs": [],
   "source": [
    "%nbdev_export\n",
    "class BaseElement(dict):\n",
    "    \n",
    "    def __init__ (self, Id, nodes, elems, group, shape, mat, consti):\n",
    "        \n",
    "        self.Id          = Id  \n",
    "        self.nodes       = list(np.sort(np.array(elems[Id][\"Nodes\"] )))\n",
    "        self.nodesCoords = nodes\n",
    "        self.coords      = np.array([self.nodesCoords[node] for node in self.nodes])\n",
    "        self.elemType    = getElemetType(self.coords)\n",
    "        self.Le          = elems[Id][\"Le\"]\n",
    "        self.gp          = shape[\"gp\"]\n",
    "        self.we          = shape[\"we\"]\n",
    "        self.N           = shape[\"N\"]\n",
    "        self.dN          = shape[\"dN\"]\n",
    "        self.group       = group\n",
    "        self.mat         = mat\n",
    "        self.consti      = consti\n",
    "        \n",
    "        self.iIter = -1\n",
    "        self.history_nodes = pd.DataFrame({\"iter\":[0]})\n",
    "        self.history_gps   = pd.DataFrame({\"iter\":[0]})\n",
    "        self.current = {\"iter\":0}\n",
    "        \n",
    "        self.add(self.Id, self.nodes)\n",
    "        \n",
    "    def add(self, Id, item):\n",
    "        self[Id] = item \n",
    "        \n",
    "    def setIter(self, iIter):\n",
    "        self.iIter = iIter\n",
    "        \n",
    "    def setHistoryNodesParameter(self, name, val):\n",
    "        if self.iIter == -1:\n",
    "            self.history_nodes[name]=val\n",
    "            \n",
    "    def setHistoryGaussParameter(self, name, val):\n",
    "        if self.iIter == -1:\n",
    "            self.history_gps[name]=val\n",
    "        \n",
    "    def setCurrentParameter(self, name, val):\n",
    "        if self.iIter == -1:\n",
    "            self.current[name]=val\n",
    "    \n",
    "    def getHistoryNodesParameter(self, iIter, name):\n",
    "        return self.history_nodes.loc[iIter,name]\n",
    "    \n",
    "    def getHistoryGaussParameter(self, iIter, name):\n",
    "        return self.history_gps.loc[iIter,name]\n",
    "    \n",
    "    def getCurrentParameter(self, name):\n",
    "        return self.current[name]\n",
    "        \n",
    "    def commitHistory(self):\n",
    "        self.setIter(0)\n",
    "        self.history_nodes = self.history_nodes.append(self.current, ignore_index=True)\n",
    "        self.history_gps   = self.history_gps.append(self.current, ignore_index=True)\n",
    "        for key, val in self.current.items():\n",
    "            self.current[key] = 0."
   ]
  },
  {
   "cell_type": "markdown",
   "metadata": {},
   "source": [
    "## Base Linear System Solver"
   ]
  },
  {
   "cell_type": "code",
   "execution_count": null,
   "metadata": {},
   "outputs": [],
   "source": [
    "%nbdev_export\n",
    "class BaseLinearSolver:\n",
    "    def __init__(self, A, b, xo=np.array([]), tol=1e-10, maxIter=10000):\n",
    "        self.device  = torch.device('cuda' if torch.cuda.is_available() else 'cpu')\n",
    "        self.A       = A\n",
    "        self.b       = b\n",
    "        self.xo      = xo\n",
    "        self.tol     = tol\n",
    "        self.maxIter = maxIter\n",
    "        \n",
    "        self.A_sparsity = 1.0-np.count_nonzero(self.A.todense())/self.A.todense().size\n",
    "        self.b_sparsity = 1.0-np.count_nonzero(self.b)/self.b.size\n",
    "        \n",
    "        if not self.xo.any():\n",
    "            self.xo = 10*np.random.randn(self.A.todense().shape[0],1)\n",
    "        \n",
    "        if self.device == torch.device(type='cuda'):\n",
    "            self.xo = torch.from_numpy(self.xo).type(torch.float64).to(self.device)\n",
    "            self.b  = torch.from_numpy(self.b).type(torch.float64).to(self.device)\n",
    "            self.A  = torch.from_numpy(self.A.todense()).type(torch.float64).to(self.device)\n",
    "    \n",
    "    def __str__ (self):\n",
    "        return f'Solver device: {self.device}'"
   ]
  },
  {
   "cell_type": "code",
   "execution_count": null,
   "metadata": {},
   "outputs": [
    {
     "name": "stdout",
     "output_type": "stream",
     "text": [
      "Converted 00_core.ipynb.\n",
      "Converted 01_physics.ipynb.\n",
      "Converted 02_constitutive.ipynb.\n",
      "Converted 03_shape.ipynb.\n",
      "Converted 04_io.ipynb.\n",
      "Converted 05_Solvers.ipynb.\n",
      "Converted 06_materials.ipynb.\n",
      "Converted 07_fem.ipynb.\n",
      "Converted 08_Modules.ipynb.\n",
      "Converted 09_base.ipynb.\n",
      "Converted 10_utils.ipynb.\n",
      "Converted index.ipynb.\n",
      "Converted test.ipynb.\n"
     ]
    }
   ],
   "source": [
    "%nbdev_hide\n",
    "notebook2script()"
   ]
  }
 ],
 "metadata": {
  "kernelspec": {
   "display_name": "Python 3",
   "language": "python",
   "name": "python3"
  }
 },
 "nbformat": 4,
 "nbformat_minor": 4
}
