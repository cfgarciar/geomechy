{
 "cells": [
  {
   "cell_type": "code",
   "execution_count": null,
   "metadata": {},
   "outputs": [],
   "source": [
    "%load_ext autoreload\n",
    "%autoreload 2"
   ]
  },
  {
   "cell_type": "code",
   "execution_count": null,
   "metadata": {},
   "outputs": [
    {
     "name": "stdout",
     "output_type": "stream",
     "text": [
      "Cells will be exported to geomechy.utils,\n",
      "unless a different module is specified after an export flag: `%nbdev_export special.module`\n"
     ]
    }
   ],
   "source": [
    "from nbdev import *\n",
    "%nbdev_default_export utils\n",
    "%nbdev_default_class_level 3"
   ]
  },
  {
   "cell_type": "markdown",
   "metadata": {},
   "source": [
    "# Utilities\n",
    "> all utilities routines"
   ]
  },
  {
   "cell_type": "markdown",
   "metadata": {},
   "source": [
    "## Dimentions and Units"
   ]
  },
  {
   "cell_type": "markdown",
   "metadata": {},
   "source": [
    "### Metric Prefixes"
   ]
  },
  {
   "cell_type": "code",
   "execution_count": null,
   "metadata": {},
   "outputs": [],
   "source": [
    "%nbdev_export\n",
    "pico  = 1.e-12\n",
    "nano  = 1.e-9\n",
    "micro = 1.e-6\n",
    "milli = 1.e-3\n",
    "centi = 1.e-2\n",
    "deci  = 1.e-1\n",
    "kilo  = 1.e+3\n",
    "mega  = 1.e+6\n",
    "giga  = 1.e+9\n",
    "tera  = 1.e+12"
   ]
  },
  {
   "cell_type": "markdown",
   "metadata": {},
   "source": [
    "### Distance"
   ]
  },
  {
   "cell_type": "code",
   "execution_count": null,
   "metadata": {},
   "outputs": [],
   "source": [
    "%nbdev_export\n",
    "meter = 1.                #meters -> meters\n",
    "ft    = 0.3048*meter      #foots  -> meters\n",
    "inch  = 2.54*centi*meter  #inches -> meters"
   ]
  },
  {
   "cell_type": "markdown",
   "metadata": {},
   "source": [
    "### Mass"
   ]
  },
  {
   "cell_type": "code",
   "execution_count": null,
   "metadata": {},
   "outputs": [],
   "source": [
    "%nbdev_export\n",
    "kg     = 1.              #kilograms  -> kilograms\n",
    "gram   = 1.*kg           #grams      -> kilograms\n",
    "pound  = 0.45359237*kg   #pounds     -> kilograms\n",
    "Ton    = 1000.*kg        #Tons       -> kilograms"
   ]
  },
  {
   "cell_type": "markdown",
   "metadata": {},
   "source": [
    "### Time"
   ]
  },
  {
   "cell_type": "code",
   "execution_count": null,
   "metadata": {},
   "outputs": [],
   "source": [
    "%nbdev_export\n",
    "second  = 1.           #seconds -> seconds\n",
    "minute  = 60.*second   #minutes -> seconds\n",
    "hour    = 60.*minute   #hours   -> seconds\n",
    "day     = 24.*hour     #days    -> seconds\n",
    "year    = 365.25*day   #years   -> seconds"
   ]
  },
  {
   "cell_type": "markdown",
   "metadata": {},
   "source": [
    "### Temperature"
   ]
  },
  {
   "cell_type": "code",
   "execution_count": null,
   "metadata": {},
   "outputs": [],
   "source": [
    "%nbdev_export\n",
    "Kelvin     = 1                             #kelvin     -> kelvin\n",
    "Rankine    = 5./9.                         #rankine    -> kelvin\n",
    "Celsius    = lambda C: C+273.15            #celsius    -> kelvin\n",
    "Fahrenheit = lambda F: (F+459.67)*Rankine  #fahrenheit -> kelvin"
   ]
  },
  {
   "cell_type": "markdown",
   "metadata": {},
   "source": [
    "### Volume"
   ]
  },
  {
   "cell_type": "code",
   "execution_count": null,
   "metadata": {},
   "outputs": [],
   "source": [
    "%nbdev_export\n",
    "litre  = (deci*meter)**3  #litre            -> cubic meter\n",
    "gallon = 231*inch**3      #US gallons       -> cubic meter\n",
    "stb    = 42*gallon        #standard barrels -> cubic meter"
   ]
  },
  {
   "cell_type": "markdown",
   "metadata": {},
   "source": [
    "### Force"
   ]
  },
  {
   "cell_type": "code",
   "execution_count": null,
   "metadata": {},
   "outputs": [],
   "source": [
    "#%nbdev_export\n",
    "Newton = 1.             #Newtons      -> Newtons\n",
    "dyne   = 1.e-5*Newton   #dynes        -> Newtons\n",
    "lbf    = 9.80665*pound  #pound-force  -> Newtons"
   ]
  },
  {
   "cell_type": "markdown",
   "metadata": {},
   "source": [
    "### Press"
   ]
  },
  {
   "cell_type": "code",
   "execution_count": null,
   "metadata": {},
   "outputs": [],
   "source": [
    "#%nbdev_export\n",
    "Pascal = 1.              #Pascals -> Pascals\n",
    "atm    = 101325.*Pascal  #Pascals -> Atmosphères\n",
    "bar    = 1e5*Pascal      #Pascals -> Bars\n",
    "psi    = lbf/inch**2     #Pascals -> Psi"
   ]
  },
  {
   "cell_type": "markdown",
   "metadata": {},
   "source": [
    "### Energy"
   ]
  },
  {
   "cell_type": "code",
   "execution_count": null,
   "metadata": {},
   "outputs": [],
   "source": [
    "%nbdev_export\n",
    "Joules   = 1.             #Joules -> Joules\n",
    "btu     = 1054.06*Joules  #British thermal unit -> Joules\n",
    "Cal     = 4184.*Joules    #Calories -> Joules"
   ]
  },
  {
   "cell_type": "markdown",
   "metadata": {},
   "source": [
    "### Dinamic Viscosity"
   ]
  },
  {
   "cell_type": "code",
   "execution_count": null,
   "metadata": {},
   "outputs": [],
   "source": [
    "%nbdev_export\n",
    "centiPoise = milli*Pascal*second  #centiPoise -> Pascal*second\n",
    "Poise      = 100*centiPoise       #Poise      -> Pascal*second"
   ]
  },
  {
   "cell_type": "markdown",
   "metadata": {},
   "source": [
    "### Kinematic Viscosity"
   ]
  },
  {
   "cell_type": "code",
   "execution_count": null,
   "metadata": {},
   "outputs": [],
   "source": [
    "%nbdev_export\n",
    "centiStokes = 1.E-6*(meter**2)/second  #centiStokes -> square-meter per second\n",
    "Stokes      = 1.E-4*(meter**2)/second  #centipoise  -> square-meter per second"
   ]
  },
  {
   "cell_type": "markdown",
   "metadata": {},
   "source": [
    "### Absolute Permeability"
   ]
  },
  {
   "cell_type": "code",
   "execution_count": null,
   "metadata": {},
   "outputs": [],
   "source": [
    "%nbdev_export\n",
    "milliDarcy = 9.869233e-16*(meter**2)  #milliDarcy -> square-meter\n",
    "Darcy      = 9.869233e-13*(meter**2)  #Darcy      -> square-meter"
   ]
  },
  {
   "cell_type": "markdown",
   "metadata": {},
   "source": [
    "### Hydraulic Conductivity"
   ]
  },
  {
   "cell_type": "code",
   "execution_count": null,
   "metadata": {},
   "outputs": [],
   "source": [
    "%nbdev_export\n",
    "inch_second = inch*second         #inches per second      -> meter per second\n",
    "mm_second   = milli*meter*second  #millimeters per second -> meter per second"
   ]
  },
  {
   "cell_type": "code",
   "execution_count": null,
   "metadata": {},
   "outputs": [
    {
     "name": "stdout",
     "output_type": "stream",
     "text": [
      "Converted 00_core.ipynb.\n",
      "Converted 01_physics.ipynb.\n",
      "Converted 02_materials.ipynb.\n",
      "Converted 03_shape.ipynb.\n",
      "Converted 04_io.ipynb.\n",
      "Converted 08_Modules.ipynb.\n",
      "Converted 09_base.ipynb.\n",
      "Converted 10_utils.ipynb.\n",
      "Converted index.ipynb.\n"
     ]
    }
   ],
   "source": [
    "%nbdev_hide\n",
    "notebook2script()"
   ]
  },
  {
   "cell_type": "code",
   "execution_count": null,
   "metadata": {},
   "outputs": [],
   "source": []
  }
 ],
 "metadata": {
  "kernelspec": {
   "display_name": "Python 3",
   "language": "python",
   "name": "python3"
  }
 },
 "nbformat": 4,
 "nbformat_minor": 4
}
